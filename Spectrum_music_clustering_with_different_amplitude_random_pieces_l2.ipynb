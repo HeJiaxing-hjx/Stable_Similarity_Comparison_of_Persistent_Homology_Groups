{
 "cells": [
  {
   "cell_type": "code",
   "execution_count": 1,
   "id": "3ca0602e",
   "metadata": {},
   "outputs": [],
   "source": [
    "import numpy as np\n",
    "import matplotlib.pyplot as plt\n",
    "from scipy.io import wavfile\n",
    "from scipy import sparse\n",
    "import time\n",
    "\n",
    "from ripser import ripser\n",
    "from persim import plot_diagrams\n",
    "import spectrum_distance_sup_operator_l2 as sd\n",
    "from sklearn_extra.cluster import KMedoids\n",
    "from sklearn.metrics import fowlkes_mallows_score\n",
    "from sklearn.cluster import AgglomerativeClustering\n",
    "from sklearn.cluster import AffinityPropagation"
   ]
  },
  {
   "cell_type": "code",
   "execution_count": 2,
   "id": "ffc8af0d",
   "metadata": {},
   "outputs": [],
   "source": [
    "def is_inf(x):\n",
    "   return x[1]!=np.inf\n"
   ]
  },
  {
   "cell_type": "code",
   "execution_count": 3,
   "id": "9cd2b082",
   "metadata": {},
   "outputs": [],
   "source": [
    "def get_diagram_delete_inf(data):\n",
    "    N = len(data)\n",
    "    #print(\"data\",data)\n",
    "    #print(\"len(data)\",N)\n",
    "    #print(data)\n",
    "    I = np.arange(N-1)\n",
    "    J = np.arange(1, N)\n",
    "    V = np.maximum(data[0:-1], data[1::])\n",
    "    #print(\"V\",V)\n",
    "    I = np.concatenate((I, np.arange(N)))\n",
    "    #print(\"I.shape\",I.shape)\n",
    "    J = np.concatenate((J, np.arange(N)))\n",
    "    V = np.concatenate((V, data))\n",
    "    #print(\"V\",V)\n",
    "    #print(\"V.shape\",V.shape)\n",
    "    D = sparse.coo_matrix((V, (I, J)), shape=(N, N)).tocsr()\n",
    "    #print(D)\n",
    "    dgm0 = ripser(D, maxdim=0, distance_matrix=True)['dgms'][0]\n",
    "    dgm0 = dgm0.tolist()\n",
    "    dgm0_delete_inf = list(filter(is_inf, dgm0))\n",
    "    return dgm0_delete_inf"
   ]
  },
  {
   "cell_type": "code",
   "execution_count": 4,
   "id": "9ac0c464",
   "metadata": {},
   "outputs": [
    {
     "name": "stderr",
     "output_type": "stream",
     "text": [
      "C:\\Users\\hejx\\AppData\\Local\\Temp\\ipykernel_21944\\643376983.py:1: WavFileWarning: Chunk (non-data) not understood, skipping it.\n",
      "  sample_rate_1, data_1 = wavfile.read('wav//220747__jmuehlhans__tuning-fork-440-hz-resonance-box.wav')\n",
      "C:\\Users\\hejx\\AppData\\Local\\Temp\\ipykernel_21944\\643376983.py:2: WavFileWarning: Chunk (non-data) not understood, skipping it.\n",
      "  sample_rate_2, data_2 = wavfile.read('wav//334536__teddy_frost__piano-normal-d4.wav')\n",
      "Spectrum:   1%|▋                                                                     | 1/100 [01:24<2:18:58, 84.23s/it]"
     ]
    },
    {
     "name": "stdout",
     "output_type": "stream",
     "text": [
      "acl_score 1.0\n",
      "len(set(ap_labels)) 2\n",
      "ap_score 0.6767789445431586\n",
      "km_score 0.9899500037875599\n"
     ]
    },
    {
     "name": "stderr",
     "output_type": "stream",
     "text": [
      "\r",
      "Spectrum:   2%|█▍                                                                    | 2/100 [02:48<2:17:14, 84.03s/it]"
     ]
    },
    {
     "name": "stdout",
     "output_type": "stream",
     "text": [
      "acl_score 1.0\n",
      "len(set(ap_labels)) 2\n",
      "ap_score 0.6420021292852027\n",
      "km_score 0.9899500037875599\n"
     ]
    },
    {
     "name": "stderr",
     "output_type": "stream",
     "text": [
      "\r",
      "Spectrum:   3%|██                                                                    | 3/100 [04:11<2:15:00, 83.51s/it]"
     ]
    },
    {
     "name": "stdout",
     "output_type": "stream",
     "text": [
      "acl_score 1.0\n",
      "len(set(ap_labels)) 2\n",
      "ap_score 0.6430259823726341\n",
      "km_score 1.0\n"
     ]
    },
    {
     "name": "stderr",
     "output_type": "stream",
     "text": [
      "\r",
      "Spectrum:   4%|██▊                                                                   | 4/100 [05:27<2:09:12, 80.76s/it]"
     ]
    },
    {
     "name": "stdout",
     "output_type": "stream",
     "text": [
      "acl_score 0.6983471199633133\n",
      "len(set(ap_labels)) 2\n",
      "ap_score 0.6590424494269148\n",
      "km_score 0.9800040595779269\n"
     ]
    },
    {
     "name": "stderr",
     "output_type": "stream",
     "text": [
      "\r",
      "Spectrum:   5%|███▌                                                                  | 5/100 [06:54<2:11:33, 83.09s/it]"
     ]
    },
    {
     "name": "stdout",
     "output_type": "stream",
     "text": [
      "acl_score 1.0\n",
      "len(set(ap_labels)) 2\n",
      "ap_score 0.6544034532370117\n",
      "km_score 0.9899500037875599\n"
     ]
    },
    {
     "name": "stderr",
     "output_type": "stream",
     "text": [
      "\r",
      "Spectrum:   6%|████▏                                                                 | 6/100 [08:23<2:13:03, 84.93s/it]"
     ]
    },
    {
     "name": "stdout",
     "output_type": "stream",
     "text": [
      "acl_score 1.0\n",
      "len(set(ap_labels)) 2\n",
      "ap_score 0.646989996582623\n",
      "km_score 1.0\n"
     ]
    },
    {
     "name": "stderr",
     "output_type": "stream",
     "text": [
      "\r",
      "Spectrum:   7%|████▉                                                                 | 7/100 [09:51<2:13:27, 86.10s/it]"
     ]
    },
    {
     "name": "stdout",
     "output_type": "stream",
     "text": [
      "acl_score 0.685495813641024\n",
      "len(set(ap_labels)) 2\n",
      "ap_score 0.6544034532370117\n",
      "km_score 1.0\n"
     ]
    },
    {
     "name": "stderr",
     "output_type": "stream",
     "text": [
      "\r",
      "Spectrum:   8%|█████▌                                                                | 8/100 [11:13<2:09:41, 84.58s/it]"
     ]
    },
    {
     "name": "stdout",
     "output_type": "stream",
     "text": [
      "acl_score 1.0\n",
      "len(set(ap_labels)) 2\n",
      "ap_score 0.7409905555180871\n",
      "km_score 1.0\n"
     ]
    },
    {
     "name": "stderr",
     "output_type": "stream",
     "text": [
      "\r",
      "Spectrum:   9%|██████▎                                                               | 9/100 [12:37<2:08:11, 84.52s/it]"
     ]
    },
    {
     "name": "stdout",
     "output_type": "stream",
     "text": [
      "acl_score 0.6885663855580644\n",
      "len(set(ap_labels)) 2\n",
      "ap_score 0.6430259823726341\n",
      "km_score 1.0\n"
     ]
    },
    {
     "name": "stderr",
     "output_type": "stream",
     "text": [
      "\r",
      "Spectrum:  10%|██████▉                                                              | 10/100 [14:05<2:08:28, 85.65s/it]"
     ]
    },
    {
     "name": "stdout",
     "output_type": "stream",
     "text": [
      "acl_score 0.6885663855580644\n",
      "len(set(ap_labels)) 2\n",
      "ap_score 0.6388618347914107\n",
      "km_score 1.0\n"
     ]
    },
    {
     "name": "stderr",
     "output_type": "stream",
     "text": [
      "\r",
      "Spectrum:  11%|███████▌                                                             | 11/100 [15:33<2:08:08, 86.38s/it]"
     ]
    },
    {
     "name": "stdout",
     "output_type": "stream",
     "text": [
      "acl_score 1.0\n",
      "len(set(ap_labels)) 2\n",
      "ap_score 0.6802999982992427\n",
      "km_score 1.0\n"
     ]
    },
    {
     "name": "stderr",
     "output_type": "stream",
     "text": [
      "\r",
      "Spectrum:  12%|████████▎                                                            | 12/100 [17:02<2:07:44, 87.10s/it]"
     ]
    },
    {
     "name": "stdout",
     "output_type": "stream",
     "text": [
      "acl_score 1.0\n",
      "len(set(ap_labels)) 2\n",
      "ap_score 0.7003582418165502\n",
      "km_score 1.0\n"
     ]
    },
    {
     "name": "stderr",
     "output_type": "stream",
     "text": [
      "\r",
      "Spectrum:  13%|████████▉                                                            | 13/100 [18:29<2:06:04, 86.95s/it]"
     ]
    },
    {
     "name": "stdout",
     "output_type": "stream",
     "text": [
      "acl_score 1.0\n",
      "len(set(ap_labels)) 2\n",
      "ap_score 0.6615985456943165\n",
      "km_score 1.0\n"
     ]
    },
    {
     "name": "stderr",
     "output_type": "stream",
     "text": [
      "\r",
      "Spectrum:  14%|█████████▋                                                           | 14/100 [19:49<2:01:40, 84.88s/it]"
     ]
    },
    {
     "name": "stdout",
     "output_type": "stream",
     "text": [
      "acl_score 0.6949934391698094\n",
      "len(set(ap_labels)) 2\n",
      "ap_score 0.6486129955273044\n",
      "km_score 1.0\n"
     ]
    },
    {
     "name": "stderr",
     "output_type": "stream",
     "text": [
      "\r",
      "Spectrum:  15%|██████████▎                                                          | 15/100 [21:17<2:01:32, 85.80s/it]"
     ]
    },
    {
     "name": "stdout",
     "output_type": "stream",
     "text": [
      "acl_score 1.0\n",
      "len(set(ap_labels)) 2\n",
      "ap_score 0.6702237599222634\n",
      "km_score 1.0\n"
     ]
    },
    {
     "name": "stderr",
     "output_type": "stream",
     "text": [
      "\r",
      "Spectrum:  16%|███████████                                                          | 16/100 [22:47<2:01:50, 87.03s/it]"
     ]
    },
    {
     "name": "stdout",
     "output_type": "stream",
     "text": [
      "acl_score 0.6917327298658174\n",
      "len(set(ap_labels)) 2\n",
      "ap_score 0.6388888888888888\n",
      "km_score 1.0\n"
     ]
    },
    {
     "name": "stderr",
     "output_type": "stream",
     "text": [
      "\r",
      "Spectrum:  17%|███████████▋                                                         | 17/100 [24:11<1:59:15, 86.21s/it]"
     ]
    },
    {
     "name": "stdout",
     "output_type": "stream",
     "text": [
      "acl_score 1.0\n",
      "len(set(ap_labels)) 2\n",
      "ap_score 0.6839840687180748\n",
      "km_score 1.0\n"
     ]
    },
    {
     "name": "stderr",
     "output_type": "stream",
     "text": [
      "\r",
      "Spectrum:  18%|████████████▍                                                        | 18/100 [25:33<1:56:21, 85.14s/it]"
     ]
    },
    {
     "name": "stdout",
     "output_type": "stream",
     "text": [
      "acl_score 1.0\n",
      "len(set(ap_labels)) 2\n",
      "ap_score 0.6839840687180748\n",
      "km_score 1.0\n"
     ]
    },
    {
     "name": "stderr",
     "output_type": "stream",
     "text": [
      "\r",
      "Spectrum:  19%|█████████████                                                        | 19/100 [27:01<1:56:06, 86.00s/it]"
     ]
    },
    {
     "name": "stdout",
     "output_type": "stream",
     "text": [
      "acl_score 0.6983471199633133\n",
      "len(set(ap_labels)) 2\n",
      "ap_score 0.6403927864553247\n",
      "km_score 0.9899500037875599\n"
     ]
    },
    {
     "name": "stderr",
     "output_type": "stream",
     "text": [
      "\r",
      "Spectrum:  20%|█████████████▊                                                       | 20/100 [28:25<1:53:32, 85.16s/it]"
     ]
    },
    {
     "name": "stdout",
     "output_type": "stream",
     "text": [
      "acl_score 0.6768730066031722\n",
      "len(set(ap_labels)) 2\n",
      "ap_score 0.6420021292852027\n",
      "km_score 1.0\n"
     ]
    },
    {
     "name": "stderr",
     "output_type": "stream",
     "text": [
      "\r",
      "Spectrum:  21%|██████████████▍                                                      | 21/100 [29:52<1:52:51, 85.71s/it]"
     ]
    },
    {
     "name": "stdout",
     "output_type": "stream",
     "text": [
      "acl_score 1.0\n",
      "len(set(ap_labels)) 2\n",
      "ap_score 0.7048625153190196\n",
      "km_score 0.9899500037875599\n"
     ]
    },
    {
     "name": "stderr",
     "output_type": "stream",
     "text": [
      "\r",
      "Spectrum:  22%|███████████████▏                                                     | 22/100 [31:20<1:52:27, 86.51s/it]"
     ]
    },
    {
     "name": "stdout",
     "output_type": "stream",
     "text": [
      "acl_score 0.6885663855580644\n",
      "len(set(ap_labels)) 2\n",
      "ap_score 0.6420021292852027\n",
      "km_score 1.0\n"
     ]
    },
    {
     "name": "stderr",
     "output_type": "stream",
     "text": [
      "\r",
      "Spectrum:  23%|███████████████▊                                                     | 23/100 [32:48<1:51:45, 87.08s/it]"
     ]
    },
    {
     "name": "stdout",
     "output_type": "stream",
     "text": [
      "acl_score 1.0\n",
      "len(set(ap_labels)) 2\n",
      "ap_score 0.6486129955273044\n",
      "km_score 1.0\n"
     ]
    },
    {
     "name": "stderr",
     "output_type": "stream",
     "text": [
      "\r",
      "Spectrum:  24%|████████████████▌                                                    | 24/100 [34:06<1:46:44, 84.26s/it]"
     ]
    },
    {
     "name": "stdout",
     "output_type": "stream",
     "text": [
      "acl_score 1.0\n",
      "len(set(ap_labels)) 2\n",
      "ap_score 0.7048625153190196\n",
      "km_score 1.0\n"
     ]
    },
    {
     "name": "stderr",
     "output_type": "stream",
     "text": [
      "\r",
      "Spectrum:  25%|█████████████████▎                                                   | 25/100 [35:34<1:46:40, 85.34s/it]"
     ]
    },
    {
     "name": "stdout",
     "output_type": "stream",
     "text": [
      "acl_score 0.685495813641024\n",
      "len(set(ap_labels)) 2\n",
      "ap_score 0.6503888206123534\n",
      "km_score 1.0\n"
     ]
    },
    {
     "name": "stderr",
     "output_type": "stream",
     "text": [
      "\r",
      "Spectrum:  26%|█████████████████▉                                                   | 26/100 [36:55<1:43:37, 84.03s/it]"
     ]
    },
    {
     "name": "stdout",
     "output_type": "stream",
     "text": [
      "acl_score 1.0\n",
      "len(set(ap_labels)) 2\n",
      "ap_score 0.69601843259202\n",
      "km_score 1.0\n"
     ]
    },
    {
     "name": "stderr",
     "output_type": "stream",
     "text": [
      "\r",
      "Spectrum:  27%|██████████████████▋                                                  | 27/100 [38:21<1:42:54, 84.59s/it]"
     ]
    },
    {
     "name": "stdout",
     "output_type": "stream",
     "text": [
      "acl_score 0.9899500037875599\n",
      "len(set(ap_labels)) 2\n",
      "ap_score 0.6615985456943165\n",
      "km_score 0.9899500037875599\n"
     ]
    },
    {
     "name": "stderr",
     "output_type": "stream",
     "text": [
      "\r",
      "Spectrum:  28%|███████████████████▎                                                 | 28/100 [39:48<1:42:26, 85.37s/it]"
     ]
    },
    {
     "name": "stdout",
     "output_type": "stream",
     "text": [
      "acl_score 0.685495813641024\n",
      "len(set(ap_labels)) 2\n",
      "ap_score 0.6393588039569238\n",
      "km_score 1.0\n"
     ]
    },
    {
     "name": "stderr",
     "output_type": "stream",
     "text": [
      "\r",
      "Spectrum:  29%|████████████████████                                                 | 29/100 [41:12<1:40:22, 84.82s/it]"
     ]
    },
    {
     "name": "stdout",
     "output_type": "stream",
     "text": [
      "acl_score 0.6825224350327586\n",
      "len(set(ap_labels)) 2\n",
      "ap_score 0.6566444007884608\n",
      "km_score 1.0\n"
     ]
    },
    {
     "name": "stderr",
     "output_type": "stream",
     "text": [
      "\r",
      "Spectrum:  30%|████████████████████▋                                                | 30/100 [42:38<1:39:36, 85.38s/it]"
     ]
    },
    {
     "name": "stdout",
     "output_type": "stream",
     "text": [
      "acl_score 1.0\n",
      "len(set(ap_labels)) 2\n",
      "ap_score 0.7353385660656123\n",
      "km_score 1.0\n"
     ]
    },
    {
     "name": "stderr",
     "output_type": "stream",
     "text": [
      "\r",
      "Spectrum:  31%|█████████████████████▍                                               | 31/100 [44:05<1:38:46, 85.89s/it]"
     ]
    },
    {
     "name": "stdout",
     "output_type": "stream",
     "text": [
      "acl_score 1.0\n",
      "len(set(ap_labels)) 2\n",
      "ap_score 0.6643135821156539\n",
      "km_score 1.0\n"
     ]
    },
    {
     "name": "stderr",
     "output_type": "stream",
     "text": [
      "\r",
      "Spectrum:  32%|██████████████████████                                               | 32/100 [45:35<1:38:40, 87.07s/it]"
     ]
    },
    {
     "name": "stdout",
     "output_type": "stream",
     "text": [
      "acl_score 0.6949934391698094\n",
      "len(set(ap_labels)) 2\n",
      "ap_score 0.6455186455286341\n",
      "km_score 1.0\n"
     ]
    },
    {
     "name": "stderr",
     "output_type": "stream",
     "text": [
      "\r",
      "Spectrum:  33%|██████████████████████▊                                              | 33/100 [47:02<1:37:17, 87.13s/it]"
     ]
    },
    {
     "name": "stdout",
     "output_type": "stream",
     "text": [
      "acl_score 0.7017923929582526\n",
      "len(set(ap_labels)) 2\n",
      "ap_score 0.6523186087939541\n",
      "km_score 1.0\n"
     ]
    },
    {
     "name": "stderr",
     "output_type": "stream",
     "text": [
      "\r",
      "Spectrum:  34%|███████████████████████▍                                             | 34/100 [48:22<1:33:23, 84.90s/it]"
     ]
    },
    {
     "name": "stdout",
     "output_type": "stream",
     "text": [
      "acl_score 0.7017923929582526\n",
      "len(set(ap_labels)) 2\n",
      "ap_score 0.6503888206123534\n",
      "km_score 0.9899500037875599\n"
     ]
    },
    {
     "name": "stderr",
     "output_type": "stream",
     "text": [
      "\r",
      "Spectrum:  35%|████████████████████████▏                                            | 35/100 [49:44<1:30:55, 83.93s/it]"
     ]
    },
    {
     "name": "stdout",
     "output_type": "stream",
     "text": [
      "acl_score 0.6949934391698094\n",
      "len(set(ap_labels)) 2\n",
      "ap_score 0.6615985456943165\n",
      "km_score 0.9899500037875599\n"
     ]
    },
    {
     "name": "stderr",
     "output_type": "stream",
     "text": [
      "\r",
      "Spectrum:  36%|████████████████████████▊                                            | 36/100 [51:14<1:31:28, 85.76s/it]"
     ]
    },
    {
     "name": "stdout",
     "output_type": "stream",
     "text": [
      "acl_score 0.6885663855580644\n",
      "len(set(ap_labels)) 2\n",
      "ap_score 0.646989996582623\n",
      "km_score 1.0\n"
     ]
    },
    {
     "name": "stderr",
     "output_type": "stream",
     "text": [
      "\r",
      "Spectrum:  37%|█████████████████████████▌                                           | 37/100 [52:35<1:28:30, 84.29s/it]"
     ]
    },
    {
     "name": "stdout",
     "output_type": "stream",
     "text": [
      "acl_score 1.0\n",
      "len(set(ap_labels)) 2\n",
      "ap_score 0.724523936757741\n",
      "km_score 1.0\n"
     ]
    },
    {
     "name": "stderr",
     "output_type": "stream",
     "text": [
      "\r",
      "Spectrum:  38%|██████████████████████████▏                                          | 38/100 [54:03<1:28:12, 85.37s/it]"
     ]
    },
    {
     "name": "stdout",
     "output_type": "stream",
     "text": [
      "acl_score 0.6949934391698094\n",
      "len(set(ap_labels)) 2\n",
      "ap_score 0.6544034532370117\n",
      "km_score 1.0\n"
     ]
    },
    {
     "name": "stderr",
     "output_type": "stream",
     "text": [
      "\r",
      "Spectrum:  39%|██████████████████████████▉                                          | 39/100 [55:25<1:26:02, 84.63s/it]"
     ]
    },
    {
     "name": "stdout",
     "output_type": "stream",
     "text": [
      "acl_score 1.0\n",
      "len(set(ap_labels)) 2\n",
      "ap_score 0.6702237599222634\n",
      "km_score 0.9899500037875599\n"
     ]
    },
    {
     "name": "stderr",
     "output_type": "stream",
     "text": [
      "\r",
      "Spectrum:  40%|███████████████████████████▌                                         | 40/100 [56:52<1:25:20, 85.35s/it]"
     ]
    },
    {
     "name": "stdout",
     "output_type": "stream",
     "text": [
      "acl_score 1.0\n",
      "len(set(ap_labels)) 2\n",
      "ap_score 0.69601843259202\n",
      "km_score 0.9899500037875599\n"
     ]
    },
    {
     "name": "stderr",
     "output_type": "stream",
     "text": [
      "\r",
      "Spectrum:  41%|████████████████████████████▎                                        | 41/100 [58:14<1:22:45, 84.16s/it]"
     ]
    },
    {
     "name": "stdout",
     "output_type": "stream",
     "text": [
      "acl_score 1.0\n",
      "len(set(ap_labels)) 2\n",
      "ap_score 0.6430259823726341\n",
      "km_score 1.0\n"
     ]
    },
    {
     "name": "stderr",
     "output_type": "stream",
     "text": [
      "\r",
      "Spectrum:  42%|████████████████████████████▉                                        | 42/100 [59:42<1:22:34, 85.42s/it]"
     ]
    },
    {
     "name": "stdout",
     "output_type": "stream",
     "text": [
      "acl_score 0.7017923929582526\n",
      "len(set(ap_labels)) 2\n",
      "ap_score 0.6767789445431586\n",
      "km_score 1.0\n"
     ]
    },
    {
     "name": "stderr",
     "output_type": "stream",
     "text": [
      "\r",
      "Spectrum:  43%|████████████████████████████▊                                      | 43/100 [1:01:02<1:19:25, 83.60s/it]"
     ]
    },
    {
     "name": "stdout",
     "output_type": "stream",
     "text": [
      "acl_score 1.0\n",
      "len(set(ap_labels)) 2\n",
      "ap_score 0.6455186455286341\n",
      "km_score 1.0\n"
     ]
    },
    {
     "name": "stderr",
     "output_type": "stream",
     "text": [
      "\r",
      "Spectrum:  44%|█████████████████████████████▍                                     | 44/100 [1:02:23<1:17:28, 83.01s/it]"
     ]
    },
    {
     "name": "stdout",
     "output_type": "stream",
     "text": [
      "acl_score 0.6917327298658174\n",
      "len(set(ap_labels)) 2\n",
      "ap_score 0.6615985456943165\n",
      "km_score 0.9899500037875599\n"
     ]
    },
    {
     "name": "stderr",
     "output_type": "stream",
     "text": [
      "\r",
      "Spectrum:  45%|██████████████████████████████▏                                    | 45/100 [1:03:45<1:15:41, 82.58s/it]"
     ]
    },
    {
     "name": "stdout",
     "output_type": "stream",
     "text": [
      "acl_score 1.0\n",
      "len(set(ap_labels)) 2\n",
      "ap_score 0.6671883946132163\n",
      "km_score 1.0\n"
     ]
    },
    {
     "name": "stderr",
     "output_type": "stream",
     "text": [
      "\r",
      "Spectrum:  46%|██████████████████████████████▊                                    | 46/100 [1:05:07<1:14:14, 82.49s/it]"
     ]
    },
    {
     "name": "stdout",
     "output_type": "stream",
     "text": [
      "acl_score 0.6949934391698094\n",
      "len(set(ap_labels)) 2\n",
      "ap_score 0.6767789445431586\n",
      "km_score 0.9899500037875599\n"
     ]
    },
    {
     "name": "stderr",
     "output_type": "stream",
     "text": [
      "\r",
      "Spectrum:  47%|███████████████████████████████▍                                   | 47/100 [1:06:35<1:14:11, 83.99s/it]"
     ]
    },
    {
     "name": "stdout",
     "output_type": "stream",
     "text": [
      "acl_score 1.0\n",
      "len(set(ap_labels)) 2\n",
      "ap_score 0.6702237599222634\n",
      "km_score 1.0\n"
     ]
    },
    {
     "name": "stderr",
     "output_type": "stream",
     "text": [
      "\r",
      "Spectrum:  48%|████████████████████████████████▏                                  | 48/100 [1:08:02<1:13:39, 84.98s/it]"
     ]
    },
    {
     "name": "stdout",
     "output_type": "stream",
     "text": [
      "acl_score 0.9899500037875599\n",
      "len(set(ap_labels)) 2\n",
      "ap_score 0.6523186087939541\n",
      "km_score 0.9899500037875599\n"
     ]
    },
    {
     "name": "stderr",
     "output_type": "stream",
     "text": [
      "\r",
      "Spectrum:  49%|████████████████████████████████▊                                  | 49/100 [1:09:32<1:13:27, 86.41s/it]"
     ]
    },
    {
     "name": "stdout",
     "output_type": "stream",
     "text": [
      "acl_score 1.0\n",
      "len(set(ap_labels)) 2\n",
      "ap_score 0.6839840687180748\n",
      "km_score 1.0\n"
     ]
    },
    {
     "name": "stderr",
     "output_type": "stream",
     "text": [
      "\r",
      "Spectrum:  50%|█████████████████████████████████▌                                 | 50/100 [1:10:56<1:11:32, 85.86s/it]"
     ]
    },
    {
     "name": "stdout",
     "output_type": "stream",
     "text": [
      "acl_score 1.0\n",
      "len(set(ap_labels)) 2\n",
      "ap_score 0.6590424494269148\n",
      "km_score 1.0\n"
     ]
    },
    {
     "name": "stderr",
     "output_type": "stream",
     "text": [
      "\r",
      "Spectrum:  51%|██████████████████████████████████▏                                | 51/100 [1:12:23<1:10:18, 86.09s/it]"
     ]
    },
    {
     "name": "stdout",
     "output_type": "stream",
     "text": [
      "acl_score 0.685495813641024\n",
      "len(set(ap_labels)) 2\n",
      "ap_score 0.6430259823726341\n",
      "km_score 0.9899500037875599\n"
     ]
    },
    {
     "name": "stderr",
     "output_type": "stream",
     "text": [
      "\r",
      "Spectrum:  52%|██████████████████████████████████▊                                | 52/100 [1:13:46<1:08:16, 85.34s/it]"
     ]
    },
    {
     "name": "stdout",
     "output_type": "stream",
     "text": [
      "acl_score 1.0\n",
      "len(set(ap_labels)) 2\n",
      "ap_score 0.6544034532370117\n",
      "km_score 1.0\n"
     ]
    },
    {
     "name": "stderr",
     "output_type": "stream",
     "text": [
      "\r",
      "Spectrum:  53%|███████████████████████████████████▌                               | 53/100 [1:15:09<1:06:18, 84.64s/it]"
     ]
    },
    {
     "name": "stdout",
     "output_type": "stream",
     "text": [
      "acl_score 1.0\n",
      "len(set(ap_labels)) 2\n",
      "ap_score 0.6503888206123534\n",
      "km_score 1.0\n"
     ]
    },
    {
     "name": "stderr",
     "output_type": "stream",
     "text": [
      "\r",
      "Spectrum:  54%|████████████████████████████████████▏                              | 54/100 [1:16:33<1:04:43, 84.42s/it]"
     ]
    },
    {
     "name": "stdout",
     "output_type": "stream",
     "text": [
      "acl_score 1.0\n",
      "len(set(ap_labels)) 2\n",
      "ap_score 0.646989996582623\n",
      "km_score 1.0\n"
     ]
    },
    {
     "name": "stderr",
     "output_type": "stream",
     "text": [
      "\r",
      "Spectrum:  55%|████████████████████████████████████▊                              | 55/100 [1:17:58<1:03:22, 84.49s/it]"
     ]
    },
    {
     "name": "stdout",
     "output_type": "stream",
     "text": [
      "acl_score 1.0\n",
      "len(set(ap_labels)) 2\n",
      "ap_score 0.6420021292852027\n",
      "km_score 1.0\n"
     ]
    },
    {
     "name": "stderr",
     "output_type": "stream",
     "text": [
      "\r",
      "Spectrum:  56%|█████████████████████████████████████▌                             | 56/100 [1:19:25<1:02:37, 85.40s/it]"
     ]
    },
    {
     "name": "stdout",
     "output_type": "stream",
     "text": [
      "acl_score 1.0\n",
      "len(set(ap_labels)) 2\n",
      "ap_score 0.7143645647416514\n",
      "km_score 1.0\n"
     ]
    },
    {
     "name": "stderr",
     "output_type": "stream",
     "text": [
      "\r",
      "Spectrum:  57%|██████████████████████████████████████▏                            | 57/100 [1:21:00<1:03:06, 88.05s/it]"
     ]
    },
    {
     "name": "stdout",
     "output_type": "stream",
     "text": [
      "acl_score 0.9899500037875599\n",
      "len(set(ap_labels)) 2\n",
      "ap_score 0.6544034532370117\n",
      "km_score 0.9899500037875599\n"
     ]
    },
    {
     "name": "stderr",
     "output_type": "stream",
     "text": [
      "\r",
      "Spectrum:  58%|██████████████████████████████████████▊                            | 58/100 [1:22:21<1:00:13, 86.03s/it]"
     ]
    },
    {
     "name": "stdout",
     "output_type": "stream",
     "text": [
      "acl_score 1.0\n",
      "len(set(ap_labels)) 2\n",
      "ap_score 0.6734203930153794\n",
      "km_score 1.0\n"
     ]
    },
    {
     "name": "stderr",
     "output_type": "stream",
     "text": [
      "\r",
      "Spectrum:  59%|████████████████████████████████████████▋                            | 59/100 [1:23:50<59:26, 86.99s/it]"
     ]
    },
    {
     "name": "stdout",
     "output_type": "stream",
     "text": [
      "acl_score 1.0\n",
      "len(set(ap_labels)) 2\n",
      "ap_score 0.646989996582623\n",
      "km_score 0.9899500037875599\n"
     ]
    },
    {
     "name": "stderr",
     "output_type": "stream",
     "text": [
      "\r",
      "Spectrum:  60%|█████████████████████████████████████████▍                           | 60/100 [1:25:18<58:04, 87.11s/it]"
     ]
    },
    {
     "name": "stdout",
     "output_type": "stream",
     "text": [
      "acl_score 0.6917327298658174\n",
      "len(set(ap_labels)) 2\n",
      "ap_score 0.6411248468389759\n",
      "km_score 1.0\n"
     ]
    },
    {
     "name": "stderr",
     "output_type": "stream",
     "text": [
      "\r",
      "Spectrum:  61%|██████████████████████████████████████████                           | 61/100 [1:26:41<55:50, 85.92s/it]"
     ]
    },
    {
     "name": "stdout",
     "output_type": "stream",
     "text": [
      "acl_score 1.0\n",
      "len(set(ap_labels)) 2\n",
      "ap_score 0.646989996582623\n",
      "km_score 1.0\n"
     ]
    },
    {
     "name": "stderr",
     "output_type": "stream",
     "text": [
      "\r",
      "Spectrum:  62%|██████████████████████████████████████████▊                          | 62/100 [1:28:10<54:58, 86.79s/it]"
     ]
    },
    {
     "name": "stdout",
     "output_type": "stream",
     "text": [
      "acl_score 0.6825224350327586\n",
      "len(set(ap_labels)) 2\n",
      "ap_score 0.6503888206123534\n",
      "km_score 1.0\n"
     ]
    },
    {
     "name": "stderr",
     "output_type": "stream",
     "text": [
      "\r",
      "Spectrum:  63%|███████████████████████████████████████████▍                         | 63/100 [1:29:40<54:06, 87.74s/it]"
     ]
    },
    {
     "name": "stdout",
     "output_type": "stream",
     "text": [
      "acl_score 1.0\n",
      "len(set(ap_labels)) 2\n",
      "ap_score 0.6671883946132163\n",
      "km_score 1.0\n"
     ]
    },
    {
     "name": "stderr",
     "output_type": "stream",
     "text": [
      "\r",
      "Spectrum:  64%|████████████████████████████████████████████▏                        | 64/100 [1:31:08<52:48, 88.00s/it]"
     ]
    },
    {
     "name": "stdout",
     "output_type": "stream",
     "text": [
      "acl_score 1.0\n",
      "len(set(ap_labels)) 2\n",
      "ap_score 0.6702237599222634\n",
      "km_score 1.0\n"
     ]
    },
    {
     "name": "stderr",
     "output_type": "stream",
     "text": [
      "\r",
      "Spectrum:  65%|████████████████████████████████████████████▊                        | 65/100 [1:32:35<51:04, 87.55s/it]"
     ]
    },
    {
     "name": "stdout",
     "output_type": "stream",
     "text": [
      "acl_score 1.0\n",
      "len(set(ap_labels)) 2\n",
      "ap_score 0.724523936757741\n",
      "km_score 0.9899500037875599\n"
     ]
    },
    {
     "name": "stderr",
     "output_type": "stream",
     "text": [
      "\r",
      "Spectrum:  66%|█████████████████████████████████████████████▌                       | 66/100 [1:34:00<49:13, 86.87s/it]"
     ]
    },
    {
     "name": "stdout",
     "output_type": "stream",
     "text": [
      "acl_score 1.0\n",
      "len(set(ap_labels)) 2\n",
      "ap_score 0.6455186455286341\n",
      "km_score 1.0\n"
     ]
    },
    {
     "name": "stderr",
     "output_type": "stream",
     "text": [
      "\r",
      "Spectrum:  67%|██████████████████████████████████████████████▏                      | 67/100 [1:35:22<46:56, 85.35s/it]"
     ]
    },
    {
     "name": "stdout",
     "output_type": "stream",
     "text": [
      "acl_score 1.0\n",
      "len(set(ap_labels)) 2\n",
      "ap_score 0.6671883946132163\n",
      "km_score 1.0\n"
     ]
    },
    {
     "name": "stderr",
     "output_type": "stream",
     "text": [
      "\r",
      "Spectrum:  68%|██████████████████████████████████████████████▉                      | 68/100 [1:36:45<45:11, 84.72s/it]"
     ]
    },
    {
     "name": "stdout",
     "output_type": "stream",
     "text": [
      "acl_score 1.0\n",
      "len(set(ap_labels)) 2\n",
      "ap_score 0.7919825418000119\n",
      "km_score 1.0\n"
     ]
    },
    {
     "name": "stderr",
     "output_type": "stream",
     "text": [
      "\r",
      "Spectrum:  69%|███████████████████████████████████████████████▌                     | 69/100 [1:38:15<44:39, 86.43s/it]"
     ]
    },
    {
     "name": "stdout",
     "output_type": "stream",
     "text": [
      "acl_score 1.0\n",
      "len(set(ap_labels)) 2\n",
      "ap_score 0.7298495302957592\n",
      "km_score 1.0\n"
     ]
    },
    {
     "name": "stderr",
     "output_type": "stream",
     "text": [
      "\r",
      "Spectrum:  70%|████████████████████████████████████████████████▎                    | 70/100 [1:39:49<44:12, 88.42s/it]"
     ]
    },
    {
     "name": "stdout",
     "output_type": "stream",
     "text": [
      "acl_score 1.0\n",
      "len(set(ap_labels)) 2\n",
      "ap_score 0.6802999982992427\n",
      "km_score 0.9800040595779269\n"
     ]
    },
    {
     "name": "stderr",
     "output_type": "stream",
     "text": [
      "\r",
      "Spectrum:  71%|████████████████████████████████████████████████▉                    | 71/100 [1:41:14<42:22, 87.68s/it]"
     ]
    },
    {
     "name": "stdout",
     "output_type": "stream",
     "text": [
      "acl_score 1.0\n",
      "len(set(ap_labels)) 2\n",
      "ap_score 0.7003582418165502\n",
      "km_score 1.0\n"
     ]
    },
    {
     "name": "stderr",
     "output_type": "stream",
     "text": [
      "\r",
      "Spectrum:  72%|█████████████████████████████████████████████████▋                   | 72/100 [1:42:41<40:47, 87.42s/it]"
     ]
    },
    {
     "name": "stdout",
     "output_type": "stream",
     "text": [
      "acl_score 0.685495813641024\n",
      "len(set(ap_labels)) 2\n",
      "ap_score 0.6544034532370117\n",
      "km_score 1.0\n"
     ]
    },
    {
     "name": "stderr",
     "output_type": "stream",
     "text": [
      "\r",
      "Spectrum:  73%|██████████████████████████████████████████████████▎                  | 73/100 [1:44:08<39:16, 87.29s/it]"
     ]
    },
    {
     "name": "stdout",
     "output_type": "stream",
     "text": [
      "acl_score 0.6949934391698094\n",
      "len(set(ap_labels)) 2\n",
      "ap_score 0.6523186087939541\n",
      "km_score 1.0\n"
     ]
    },
    {
     "name": "stderr",
     "output_type": "stream",
     "text": [
      "\r",
      "Spectrum:  74%|███████████████████████████████████████████████████                  | 74/100 [1:45:42<38:40, 89.26s/it]"
     ]
    },
    {
     "name": "stdout",
     "output_type": "stream",
     "text": [
      "acl_score 1.0\n",
      "len(set(ap_labels)) 2\n",
      "ap_score 0.7409905555180871\n",
      "km_score 1.0\n"
     ]
    },
    {
     "name": "stderr",
     "output_type": "stream",
     "text": [
      "\r",
      "Spectrum:  75%|███████████████████████████████████████████████████▊                 | 75/100 [1:47:09<36:56, 88.66s/it]"
     ]
    },
    {
     "name": "stdout",
     "output_type": "stream",
     "text": [
      "acl_score 1.0\n",
      "len(set(ap_labels)) 2\n",
      "ap_score 0.6566444007884608\n",
      "km_score 1.0\n"
     ]
    },
    {
     "name": "stderr",
     "output_type": "stream",
     "text": [
      "\r",
      "Spectrum:  76%|████████████████████████████████████████████████████▍                | 76/100 [1:48:38<35:25, 88.58s/it]"
     ]
    },
    {
     "name": "stdout",
     "output_type": "stream",
     "text": [
      "acl_score 0.6983471199633133\n",
      "len(set(ap_labels)) 2\n",
      "ap_score 0.6441977252862122\n",
      "km_score 1.0\n"
     ]
    },
    {
     "name": "stderr",
     "output_type": "stream",
     "text": [
      "\r",
      "Spectrum:  77%|█████████████████████████████████████████████████████▏               | 77/100 [1:49:59<33:06, 86.37s/it]"
     ]
    },
    {
     "name": "stdout",
     "output_type": "stream",
     "text": [
      "acl_score 0.6983471199633133\n",
      "len(set(ap_labels)) 2\n",
      "ap_score 0.6590424494269148\n",
      "km_score 0.9899500037875599\n"
     ]
    },
    {
     "name": "stderr",
     "output_type": "stream",
     "text": [
      "\r",
      "Spectrum:  78%|█████████████████████████████████████████████████████▊               | 78/100 [1:51:28<32:00, 87.30s/it]"
     ]
    },
    {
     "name": "stdout",
     "output_type": "stream",
     "text": [
      "acl_score 1.0\n",
      "len(set(ap_labels)) 2\n",
      "ap_score 0.6671883946132163\n",
      "km_score 1.0\n"
     ]
    },
    {
     "name": "stderr",
     "output_type": "stream",
     "text": [
      "\r",
      "Spectrum:  79%|██████████████████████████████████████████████████████▌              | 79/100 [1:52:51<30:02, 85.82s/it]"
     ]
    },
    {
     "name": "stdout",
     "output_type": "stream",
     "text": [
      "acl_score 0.7017923929582526\n",
      "len(set(ap_labels)) 2\n",
      "ap_score 0.6392161355540869\n",
      "km_score 1.0\n"
     ]
    },
    {
     "name": "stderr",
     "output_type": "stream",
     "text": [
      "\r",
      "Spectrum:  80%|███████████████████████████████████████████████████████▏             | 80/100 [1:54:22<29:07, 87.36s/it]"
     ]
    },
    {
     "name": "stdout",
     "output_type": "stream",
     "text": [
      "acl_score 1.0\n",
      "len(set(ap_labels)) 2\n",
      "ap_score 0.6702237599222634\n",
      "km_score 1.0\n"
     ]
    },
    {
     "name": "stderr",
     "output_type": "stream",
     "text": [
      "\r",
      "Spectrum:  81%|███████████████████████████████████████████████████████▉             | 81/100 [1:55:46<27:20, 86.35s/it]"
     ]
    },
    {
     "name": "stdout",
     "output_type": "stream",
     "text": [
      "acl_score 1.0\n",
      "len(set(ap_labels)) 2\n",
      "ap_score 0.6878315984140628\n",
      "km_score 1.0\n"
     ]
    },
    {
     "name": "stderr",
     "output_type": "stream",
     "text": [
      "\r",
      "Spectrum:  82%|████████████████████████████████████████████████████████▌            | 82/100 [1:57:04<25:09, 83.87s/it]"
     ]
    },
    {
     "name": "stdout",
     "output_type": "stream",
     "text": [
      "acl_score 0.679647683776028\n",
      "len(set(ap_labels)) 2\n",
      "ap_score 0.6590424494269148\n",
      "km_score 1.0\n"
     ]
    },
    {
     "name": "stderr",
     "output_type": "stream",
     "text": [
      "\r",
      "Spectrum:  83%|█████████████████████████████████████████████████████████▎           | 83/100 [1:58:29<23:51, 84.22s/it]"
     ]
    },
    {
     "name": "stdout",
     "output_type": "stream",
     "text": [
      "acl_score 1.0\n",
      "len(set(ap_labels)) 2\n",
      "ap_score 0.7193621805598783\n",
      "km_score 1.0\n"
     ]
    },
    {
     "name": "stderr",
     "output_type": "stream",
     "text": [
      "\r",
      "Spectrum:  84%|█████████████████████████████████████████████████████████▉           | 84/100 [1:59:56<22:39, 85.00s/it]"
     ]
    },
    {
     "name": "stdout",
     "output_type": "stream",
     "text": [
      "acl_score 1.0\n",
      "len(set(ap_labels)) 2\n",
      "ap_score 0.6671883946132163\n",
      "km_score 1.0\n"
     ]
    },
    {
     "name": "stderr",
     "output_type": "stream",
     "text": [
      "\r",
      "Spectrum:  85%|██████████████████████████████████████████████████████████▋          | 85/100 [2:01:28<21:49, 87.29s/it]"
     ]
    },
    {
     "name": "stdout",
     "output_type": "stream",
     "text": [
      "acl_score 0.6949934391698094\n",
      "len(set(ap_labels)) 2\n",
      "ap_score 0.6411248468389759\n",
      "km_score 0.9800040595779269\n"
     ]
    },
    {
     "name": "stderr",
     "output_type": "stream",
     "text": [
      "\r",
      "Spectrum:  86%|███████████████████████████████████████████████████████████▎         | 86/100 [2:02:54<20:16, 86.88s/it]"
     ]
    },
    {
     "name": "stdout",
     "output_type": "stream",
     "text": [
      "acl_score 1.0\n",
      "len(set(ap_labels)) 2\n",
      "ap_score 0.69601843259202\n",
      "km_score 1.0\n"
     ]
    },
    {
     "name": "stderr",
     "output_type": "stream",
     "text": [
      "\r",
      "Spectrum:  87%|████████████████████████████████████████████████████████████         | 87/100 [2:04:27<19:11, 88.60s/it]"
     ]
    },
    {
     "name": "stdout",
     "output_type": "stream",
     "text": [
      "acl_score 1.0\n",
      "len(set(ap_labels)) 2\n",
      "ap_score 0.6878315984140628\n",
      "km_score 1.0\n"
     ]
    },
    {
     "name": "stderr",
     "output_type": "stream",
     "text": [
      "\r",
      "Spectrum:  88%|████████████████████████████████████████████████████████████▋        | 88/100 [2:05:52<17:29, 87.47s/it]"
     ]
    },
    {
     "name": "stdout",
     "output_type": "stream",
     "text": [
      "acl_score 0.6917327298658174\n",
      "len(set(ap_labels)) 2\n",
      "ap_score 0.6403927864553247\n",
      "km_score 1.0\n"
     ]
    },
    {
     "name": "stderr",
     "output_type": "stream",
     "text": [
      "\r",
      "Spectrum:  89%|█████████████████████████████████████████████████████████████▍       | 89/100 [2:07:15<15:48, 86.27s/it]"
     ]
    },
    {
     "name": "stdout",
     "output_type": "stream",
     "text": [
      "acl_score 1.0\n",
      "len(set(ap_labels)) 2\n",
      "ap_score 0.6544034532370117\n",
      "km_score 1.0\n"
     ]
    },
    {
     "name": "stderr",
     "output_type": "stream",
     "text": [
      "\r",
      "Spectrum:  90%|██████████████████████████████████████████████████████████████       | 90/100 [2:08:38<14:11, 85.13s/it]"
     ]
    },
    {
     "name": "stdout",
     "output_type": "stream",
     "text": [
      "acl_score 1.0\n",
      "len(set(ap_labels)) 2\n",
      "ap_score 0.6643135821156539\n",
      "km_score 1.0\n"
     ]
    },
    {
     "name": "stderr",
     "output_type": "stream",
     "text": [
      "\r",
      "Spectrum:  91%|██████████████████████████████████████████████████████████████▊      | 91/100 [2:10:00<12:39, 84.39s/it]"
     ]
    },
    {
     "name": "stdout",
     "output_type": "stream",
     "text": [
      "acl_score 1.0\n",
      "len(set(ap_labels)) 2\n",
      "ap_score 0.8136813667465735\n",
      "km_score 0.9800040595779269\n"
     ]
    },
    {
     "name": "stderr",
     "output_type": "stream",
     "text": [
      "\r",
      "Spectrum:  92%|███████████████████████████████████████████████████████████████▍     | 92/100 [2:11:24<11:13, 84.24s/it]"
     ]
    },
    {
     "name": "stdout",
     "output_type": "stream",
     "text": [
      "acl_score 1.0\n",
      "len(set(ap_labels)) 2\n",
      "ap_score 0.6802999982992427\n",
      "km_score 1.0\n"
     ]
    },
    {
     "name": "stderr",
     "output_type": "stream",
     "text": [
      "\r",
      "Spectrum:  93%|████████████████████████████████████████████████████████████████▏    | 93/100 [2:12:54<10:00, 85.76s/it]"
     ]
    },
    {
     "name": "stdout",
     "output_type": "stream",
     "text": [
      "acl_score 0.7017923929582526\n",
      "len(set(ap_labels)) 2\n",
      "ap_score 0.6615985456943165\n",
      "km_score 1.0\n"
     ]
    },
    {
     "name": "stderr",
     "output_type": "stream",
     "text": [
      "\r",
      "Spectrum:  94%|████████████████████████████████████████████████████████████████▊    | 94/100 [2:14:26<08:47, 87.84s/it]"
     ]
    },
    {
     "name": "stdout",
     "output_type": "stream",
     "text": [
      "acl_score 1.0\n",
      "len(set(ap_labels)) 2\n",
      "ap_score 0.6393588039569238\n",
      "km_score 1.0\n"
     ]
    },
    {
     "name": "stderr",
     "output_type": "stream",
     "text": [
      "\r",
      "Spectrum:  95%|█████████████████████████████████████████████████████████████████▌   | 95/100 [2:15:55<07:21, 88.27s/it]"
     ]
    },
    {
     "name": "stdout",
     "output_type": "stream",
     "text": [
      "acl_score 1.0\n",
      "len(set(ap_labels)) 2\n",
      "ap_score 0.6523186087939541\n",
      "km_score 1.0\n"
     ]
    },
    {
     "name": "stderr",
     "output_type": "stream",
     "text": [
      "\r",
      "Spectrum:  96%|██████████████████████████████████████████████████████████████████▏  | 96/100 [2:17:20<05:48, 87.05s/it]"
     ]
    },
    {
     "name": "stdout",
     "output_type": "stream",
     "text": [
      "acl_score 0.6983471199633133\n",
      "len(set(ap_labels)) 2\n",
      "ap_score 0.6839840687180748\n",
      "km_score 1.0\n"
     ]
    },
    {
     "name": "stderr",
     "output_type": "stream",
     "text": [
      "\r",
      "Spectrum:  97%|██████████████████████████████████████████████████████████████████▉  | 97/100 [2:18:42<04:17, 85.78s/it]"
     ]
    },
    {
     "name": "stdout",
     "output_type": "stream",
     "text": [
      "acl_score 1.0\n",
      "len(set(ap_labels)) 2\n",
      "ap_score 0.6388888888888888\n",
      "km_score 1.0\n"
     ]
    },
    {
     "name": "stderr",
     "output_type": "stream",
     "text": [
      "\r",
      "Spectrum:  98%|███████████████████████████████████████████████████████████████████▌ | 98/100 [2:20:15<02:55, 87.72s/it]"
     ]
    },
    {
     "name": "stdout",
     "output_type": "stream",
     "text": [
      "acl_score 0.6885663855580644\n",
      "len(set(ap_labels)) 2\n",
      "ap_score 0.6441977252862122\n",
      "km_score 0.9899500037875599\n"
     ]
    },
    {
     "name": "stderr",
     "output_type": "stream",
     "text": [
      "\r",
      "Spectrum:  99%|████████████████████████████████████████████████████████████████████▎| 99/100 [2:21:35<01:25, 85.63s/it]"
     ]
    },
    {
     "name": "stdout",
     "output_type": "stream",
     "text": [
      "acl_score 0.6885663855580644\n",
      "len(set(ap_labels)) 2\n",
      "ap_score 0.6566444007884608\n",
      "km_score 1.0\n"
     ]
    },
    {
     "name": "stderr",
     "output_type": "stream",
     "text": [
      "Spectrum: 100%|████████████████████████████████████████████████████████████████████| 100/100 [2:23:01<00:00, 85.82s/it]"
     ]
    },
    {
     "name": "stdout",
     "output_type": "stream",
     "text": [
      "acl_score 1.0\n",
      "len(set(ap_labels)) 2\n",
      "ap_score 0.6566444007884608\n",
      "km_score 1.0\n",
      "average Agglomerative cluster 2.0\n",
      "FMI_Agglomerative= 0.889\n",
      "average Affinity Propagation cluster 2.0\n",
      "FMI_Affinity_Propagation = 0.669\n",
      "FMI_k_medoids = 0.997\n"
     ]
    },
    {
     "name": "stderr",
     "output_type": "stream",
     "text": [
      "\n"
     ]
    }
   ],
   "source": [
    "\n",
    "sample_rate_1, data_1 = wavfile.read('wav//220747__jmuehlhans__tuning-fork-440-hz-resonance-box.wav')\n",
    "sample_rate_2, data_2 = wavfile.read('wav//334536__teddy_frost__piano-normal-d4.wav')\n",
    "if data_1.ndim > 1:\n",
    "    data_1 = data_1[:, 0]\n",
    "if data_2.ndim > 1:\n",
    "    data_2 = data_2[:, 0]\n",
    "#print(data_1)\n",
    "#print(data_2)\n",
    "#piece_1_start = np.random.uniform(3,20)\n",
    "#piece_2_start = np.random.uniform(0.1,1.3)\n",
    "\n",
    "\n",
    "from tqdm import tqdm\n",
    "mean_acl_num_cluster = 0\n",
    "mean_ap_num_cluster = 0\n",
    "mean_acl_score = 0\n",
    "mean_ap_score = 0\n",
    "mean_km_score = 0\n",
    "for i in tqdm(range(100), desc='Spectrum'):\n",
    "    tuning_class = []\n",
    "    for i in range(100):\n",
    "        #piece_1_start = np.random.uniform(4,10)\n",
    "        piece_1_start = np.random.uniform(3,15)\n",
    "        piece_1_length = np.random.uniform(0.02,0.05)\n",
    "        x_1 = data_1[int(piece_1_start* sample_rate_1):int((piece_1_start+piece_1_length)* sample_rate_1)]\n",
    "        get_dgm1_delete_inf = get_diagram_delete_inf(x_1)\n",
    "        tuning_class.append(get_dgm1_delete_inf)\n",
    "    #print(len(tuning_class))\n",
    "    #print(tuning_class)\n",
    "    piano_class = []\n",
    "    for j in range(100):\n",
    "        piece_2_start = np.random.uniform(0.2,1.0)\n",
    "        #piece_2_start = np.random.uniform(0.1,1.3)\n",
    "        piece_2_length = np.random.uniform(0.02,0.05)\n",
    "        #print(piece_2_start)\n",
    "        #print(int(piece_2_start* sample_rate_2))\n",
    "        x_2 = data_2[int(piece_2_start* sample_rate_2):int((piece_2_start+piece_2_length) * sample_rate_2)]\n",
    "        #print(x_2)\n",
    "        get_dgm2_delete_inf = get_diagram_delete_inf(x_2)\n",
    "        piano_class.append(get_dgm2_delete_inf)\n",
    "\n",
    "    datas = []\n",
    "    datas.extend(tuning_class)\n",
    "    datas.extend(piano_class)\n",
    "    labels = np.zeros(200)\n",
    "    labels[100:] = 1\n",
    "\n",
    "    \"\"\"\n",
    "    generate distance matrix\n",
    "    \"\"\"\n",
    "\n",
    "    def get_sc_dismatrix(datas):\n",
    "        distance_matrix = np.zeros((len(datas), len(datas)))\n",
    "        #print(\"distance_matrix.shape\", distance_matrix.shape)\n",
    "        for i in range(len(datas)):\n",
    "            for j in range(len(datas)):\n",
    "                distance_matrix[i, j] = sd.compute_distance(datas[i], datas[j])\n",
    "        return distance_matrix\n",
    "\n",
    "    A = get_sc_dismatrix(datas)\n",
    "\n",
    "    \"\"\"\n",
    "    Agglomerative Clustering\n",
    "    \"\"\"\n",
    "\n",
    "\n",
    "    acl = AgglomerativeClustering(n_clusters=2, metric='precomputed', linkage='average')\n",
    "\n",
    "    acl_labels = acl.fit_predict(A)\n",
    "    mean_acl_num_cluster += len(set(acl_labels))\n",
    "\n",
    "\n",
    "\n",
    "    acl_score = fowlkes_mallows_score(labels, acl_labels)\n",
    "    print(\"acl_score\",acl_score)\n",
    "    mean_acl_score += acl_score\n",
    "\n",
    "    \"\"\"\n",
    "    Affinity Propagation\n",
    "    \"\"\"\n",
    "\n",
    "\n",
    "    ap = AffinityPropagation(affinity='precomputed')\n",
    "    ap_clustering = ap.fit(A)\n",
    "    ap_labels = ap_clustering.labels_\n",
    "\n",
    "    mean_ap_num_cluster+=len(set(ap_labels))\n",
    "    print(\"len(set(ap_labels))\",len(set(ap_labels)))\n",
    "   \n",
    "\n",
    "    ap_score = fowlkes_mallows_score(labels, ap_labels)\n",
    "    print(\"ap_score\",ap_score)\n",
    "    mean_ap_score += ap_score\n",
    "\n",
    "    \"\"\"\n",
    "    k-med\n",
    "    \"\"\"\n",
    "    kmedoids = KMedoids(n_clusters=2, random_state=0).fit(A)\n",
    "    #print(kmedoids.labels_)\n",
    "    km_score = fowlkes_mallows_score(labels, kmedoids.labels_)\n",
    "    print(\"km_score\",km_score)\n",
    "    mean_km_score+=km_score\n",
    "average_acl_cluster = mean_acl_num_cluster/100\n",
    "average_acl_score = mean_acl_score/100\n",
    "average_ap_cluster = mean_ap_num_cluster/100\n",
    "average_ap_score = mean_ap_score/100\n",
    "average_km_score = mean_km_score/100\n",
    "print(\"average Agglomerative cluster\",average_acl_cluster)\n",
    "print(f'FMI_Agglomerative= {average_acl_score:.3f}')\n",
    "print(\"average Affinity Propagation cluster\",average_ap_cluster)\n",
    "print(f'FMI_Affinity_Propagation = {average_ap_score:.3f}')\n",
    "print(f'FMI_k_medoids = {average_km_score:.3f}')"
   ]
  },
  {
   "cell_type": "code",
   "execution_count": null,
   "id": "a74cc88e",
   "metadata": {},
   "outputs": [],
   "source": []
  }
 ],
 "metadata": {
  "kernelspec": {
   "display_name": "hejx_env",
   "language": "python",
   "name": "hejx_env"
  },
  "language_info": {
   "codemirror_mode": {
    "name": "ipython",
    "version": 3
   },
   "file_extension": ".py",
   "mimetype": "text/x-python",
   "name": "python",
   "nbconvert_exporter": "python",
   "pygments_lexer": "ipython3",
   "version": "3.8.15"
  }
 },
 "nbformat": 4,
 "nbformat_minor": 5
}
