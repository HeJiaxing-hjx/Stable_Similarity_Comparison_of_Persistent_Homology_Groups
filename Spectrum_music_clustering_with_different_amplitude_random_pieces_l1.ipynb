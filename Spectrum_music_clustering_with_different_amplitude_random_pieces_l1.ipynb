{
 "cells": [
  {
   "cell_type": "code",
   "execution_count": 1,
   "id": "3ca0602e",
   "metadata": {},
   "outputs": [],
   "source": [
    "import numpy as np\n",
    "import matplotlib.pyplot as plt\n",
    "from scipy.io import wavfile\n",
    "from scipy import sparse\n",
    "import time\n",
    "\n",
    "from ripser import ripser\n",
    "from persim import plot_diagrams\n",
    "import spectrum_distance_sup_operator_l1 as sd\n",
    "from sklearn_extra.cluster import KMedoids\n",
    "from sklearn.metrics import fowlkes_mallows_score\n",
    "from sklearn.cluster import AgglomerativeClustering\n",
    "from sklearn.cluster import AffinityPropagation"
   ]
  },
  {
   "cell_type": "code",
   "execution_count": 2,
   "id": "ffc8af0d",
   "metadata": {},
   "outputs": [],
   "source": [
    "def is_inf(x):\n",
    "   return x[1]!=np.inf\n"
   ]
  },
  {
   "cell_type": "code",
   "execution_count": 3,
   "id": "9cd2b082",
   "metadata": {},
   "outputs": [],
   "source": [
    "def get_diagram_delete_inf(data):\n",
    "    N = len(data)\n",
    "    #print(\"data\",data)\n",
    "    #print(\"len(data)\",N)\n",
    "    #print(data)\n",
    "    I = np.arange(N-1)\n",
    "    J = np.arange(1, N)\n",
    "    V = np.maximum(data[0:-1], data[1::])\n",
    "    #print(\"V\",V)\n",
    "    I = np.concatenate((I, np.arange(N)))\n",
    "    #print(\"I.shape\",I.shape)\n",
    "    J = np.concatenate((J, np.arange(N)))\n",
    "    V = np.concatenate((V, data))\n",
    "    #print(\"V\",V)\n",
    "    #print(\"V.shape\",V.shape)\n",
    "    D = sparse.coo_matrix((V, (I, J)), shape=(N, N)).tocsr()\n",
    "    #print(D)\n",
    "    dgm0 = ripser(D, maxdim=0, distance_matrix=True)['dgms'][0]\n",
    "    dgm0 = dgm0.tolist()\n",
    "    dgm0_delete_inf = list(filter(is_inf, dgm0))\n",
    "    return dgm0_delete_inf"
   ]
  },
  {
   "cell_type": "code",
   "execution_count": 4,
   "id": "9ac0c464",
   "metadata": {},
   "outputs": [
    {
     "name": "stderr",
     "output_type": "stream",
     "text": [
      "C:\\Users\\hejx\\AppData\\Local\\Temp\\ipykernel_1148\\643376983.py:1: WavFileWarning: Chunk (non-data) not understood, skipping it.\n",
      "  sample_rate_1, data_1 = wavfile.read('wav//220747__jmuehlhans__tuning-fork-440-hz-resonance-box.wav')\n",
      "C:\\Users\\hejx\\AppData\\Local\\Temp\\ipykernel_1148\\643376983.py:2: WavFileWarning: Chunk (non-data) not understood, skipping it.\n",
      "  sample_rate_2, data_2 = wavfile.read('wav//334536__teddy_frost__piano-normal-d4.wav')\n",
      "Spectrum:   1%|▋                                                                     | 1/100 [01:23<2:18:21, 83.85s/it]"
     ]
    },
    {
     "name": "stdout",
     "output_type": "stream",
     "text": [
      "acl_score 1.0\n",
      "len(set(ap_labels)) 2\n",
      "ap_score 0.9318544609714189\n",
      "km_score 1.0\n"
     ]
    },
    {
     "name": "stderr",
     "output_type": "stream",
     "text": [
      "\r",
      "Spectrum:   2%|█▍                                                                    | 2/100 [02:51<2:20:09, 85.81s/it]"
     ]
    },
    {
     "name": "stdout",
     "output_type": "stream",
     "text": [
      "acl_score 1.0\n",
      "len(set(ap_labels)) 2\n",
      "ap_score 0.799063251002448\n",
      "km_score 1.0\n"
     ]
    },
    {
     "name": "stderr",
     "output_type": "stream",
     "text": [
      "\r",
      "Spectrum:   3%|██                                                                    | 3/100 [04:17<2:19:11, 86.10s/it]"
     ]
    },
    {
     "name": "stdout",
     "output_type": "stream",
     "text": [
      "acl_score 1.0\n",
      "len(set(ap_labels)) 2\n",
      "ap_score 0.8446975165706131\n",
      "km_score 1.0\n"
     ]
    },
    {
     "name": "stderr",
     "output_type": "stream",
     "text": [
      "\r",
      "Spectrum:   4%|██▊                                                                   | 4/100 [05:37<2:13:57, 83.73s/it]"
     ]
    },
    {
     "name": "stdout",
     "output_type": "stream",
     "text": [
      "acl_score 1.0\n",
      "len(set(ap_labels)) 2\n",
      "ap_score 0.913398924074046\n",
      "km_score 1.0\n"
     ]
    },
    {
     "name": "stderr",
     "output_type": "stream",
     "text": [
      "\r",
      "Spectrum:   5%|███▌                                                                  | 5/100 [07:01<2:12:45, 83.84s/it]"
     ]
    },
    {
     "name": "stdout",
     "output_type": "stream",
     "text": [
      "acl_score 1.0\n",
      "len(set(ap_labels)) 2\n",
      "ap_score 0.9318544609714189\n",
      "km_score 1.0\n"
     ]
    },
    {
     "name": "stderr",
     "output_type": "stream",
     "text": [
      "\r",
      "Spectrum:   6%|████▏                                                                 | 6/100 [08:27<2:12:24, 84.52s/it]"
     ]
    },
    {
     "name": "stdout",
     "output_type": "stream",
     "text": [
      "acl_score 1.0\n",
      "len(set(ap_labels)) 2\n",
      "ap_score 0.8779841695474074\n",
      "km_score 1.0\n"
     ]
    },
    {
     "name": "stderr",
     "output_type": "stream",
     "text": [
      "\r",
      "Spectrum:   7%|████▉                                                                 | 7/100 [09:48<2:09:16, 83.40s/it]"
     ]
    },
    {
     "name": "stdout",
     "output_type": "stream",
     "text": [
      "acl_score 1.0\n",
      "len(set(ap_labels)) 2\n",
      "ap_score 0.8866443606216768\n",
      "km_score 1.0\n"
     ]
    },
    {
     "name": "stderr",
     "output_type": "stream",
     "text": [
      "\r",
      "Spectrum:   8%|█████▌                                                                | 8/100 [11:15<2:09:26, 84.42s/it]"
     ]
    },
    {
     "name": "stdout",
     "output_type": "stream",
     "text": [
      "acl_score 1.0\n",
      "len(set(ap_labels)) 2\n",
      "ap_score 0.8954352272776029\n",
      "km_score 1.0\n"
     ]
    },
    {
     "name": "stderr",
     "output_type": "stream",
     "text": [
      "\r",
      "Spectrum:   9%|██████▎                                                               | 9/100 [12:33<2:05:17, 82.61s/it]"
     ]
    },
    {
     "name": "stdout",
     "output_type": "stream",
     "text": [
      "acl_score 1.0\n",
      "len(set(ap_labels)) 2\n",
      "ap_score 0.7193621805598783\n",
      "km_score 1.0\n"
     ]
    },
    {
     "name": "stderr",
     "output_type": "stream",
     "text": [
      "\r",
      "Spectrum:  10%|██████▉                                                              | 10/100 [13:57<2:04:20, 82.89s/it]"
     ]
    },
    {
     "name": "stdout",
     "output_type": "stream",
     "text": [
      "acl_score 1.0\n",
      "len(set(ap_labels)) 2\n",
      "ap_score 0.8866443606216768\n",
      "km_score 1.0\n"
     ]
    },
    {
     "name": "stderr",
     "output_type": "stream",
     "text": [
      "\r",
      "Spectrum:  11%|███████▌                                                             | 11/100 [15:13<1:59:52, 80.81s/it]"
     ]
    },
    {
     "name": "stdout",
     "output_type": "stream",
     "text": [
      "acl_score 1.0\n",
      "len(set(ap_labels)) 2\n",
      "ap_score 0.9043542710506802\n",
      "km_score 1.0\n"
     ]
    },
    {
     "name": "stderr",
     "output_type": "stream",
     "text": [
      "\r",
      "Spectrum:  12%|████████▎                                                            | 12/100 [16:39<2:00:55, 82.45s/it]"
     ]
    },
    {
     "name": "stdout",
     "output_type": "stream",
     "text": [
      "acl_score 1.0\n",
      "len(set(ap_labels)) 2\n",
      "ap_score 0.9507800466401071\n",
      "km_score 1.0\n"
     ]
    },
    {
     "name": "stderr",
     "output_type": "stream",
     "text": [
      "\r",
      "Spectrum:  13%|████████▉                                                            | 13/100 [18:08<2:02:30, 84.49s/it]"
     ]
    },
    {
     "name": "stdout",
     "output_type": "stream",
     "text": [
      "acl_score 1.0\n",
      "len(set(ap_labels)) 2\n",
      "ap_score 0.8779841695474074\n",
      "km_score 1.0\n"
     ]
    },
    {
     "name": "stderr",
     "output_type": "stream",
     "text": [
      "\r",
      "Spectrum:  14%|█████████▋                                                           | 14/100 [19:30<1:59:58, 83.70s/it]"
     ]
    },
    {
     "name": "stdout",
     "output_type": "stream",
     "text": [
      "acl_score 1.0\n",
      "len(set(ap_labels)) 2\n",
      "ap_score 0.7527809669515134\n",
      "km_score 1.0\n"
     ]
    },
    {
     "name": "stderr",
     "output_type": "stream",
     "text": [
      "\r",
      "Spectrum:  15%|██████████▎                                                          | 15/100 [20:49<1:56:35, 82.30s/it]"
     ]
    },
    {
     "name": "stdout",
     "output_type": "stream",
     "text": [
      "acl_score 1.0\n",
      "len(set(ap_labels)) 2\n",
      "ap_score 0.8779841695474074\n",
      "km_score 1.0\n"
     ]
    },
    {
     "name": "stderr",
     "output_type": "stream",
     "text": [
      "\r",
      "Spectrum:  16%|███████████                                                          | 16/100 [22:15<1:56:41, 83.35s/it]"
     ]
    },
    {
     "name": "stdout",
     "output_type": "stream",
     "text": [
      "acl_score 1.0\n",
      "len(set(ap_labels)) 2\n",
      "ap_score 0.8288975648485725\n",
      "km_score 1.0\n"
     ]
    },
    {
     "name": "stderr",
     "output_type": "stream",
     "text": [
      "\r",
      "Spectrum:  17%|███████████▋                                                         | 17/100 [23:41<1:56:13, 84.02s/it]"
     ]
    },
    {
     "name": "stdout",
     "output_type": "stream",
     "text": [
      "acl_score 1.0\n",
      "len(set(ap_labels)) 2\n",
      "ap_score 0.9043542710506802\n",
      "km_score 1.0\n"
     ]
    },
    {
     "name": "stderr",
     "output_type": "stream",
     "text": [
      "\r",
      "Spectrum:  18%|████████████▍                                                        | 18/100 [24:58<1:52:10, 82.08s/it]"
     ]
    },
    {
     "name": "stdout",
     "output_type": "stream",
     "text": [
      "acl_score 1.0\n",
      "len(set(ap_labels)) 2\n",
      "ap_score 0.8367255244819107\n",
      "km_score 1.0\n"
     ]
    },
    {
     "name": "stderr",
     "output_type": "stream",
     "text": [
      "\r",
      "Spectrum:  19%|█████████████                                                        | 19/100 [26:23<1:52:03, 83.01s/it]"
     ]
    },
    {
     "name": "stdout",
     "output_type": "stream",
     "text": [
      "acl_score 1.0\n",
      "len(set(ap_labels)) 2\n",
      "ap_score 0.9225665526474643\n",
      "km_score 1.0\n"
     ]
    },
    {
     "name": "stderr",
     "output_type": "stream",
     "text": [
      "\r",
      "Spectrum:  20%|█████████████▊                                                       | 20/100 [27:44<1:49:54, 82.44s/it]"
     ]
    },
    {
     "name": "stdout",
     "output_type": "stream",
     "text": [
      "acl_score 1.0\n",
      "len(set(ap_labels)) 2\n",
      "ap_score 0.8367255244819107\n",
      "km_score 1.0\n"
     ]
    },
    {
     "name": "stderr",
     "output_type": "stream",
     "text": [
      "\r",
      "Spectrum:  21%|██████████████▍                                                      | 21/100 [29:09<1:49:17, 83.00s/it]"
     ]
    },
    {
     "name": "stdout",
     "output_type": "stream",
     "text": [
      "acl_score 1.0\n",
      "len(set(ap_labels)) 2\n",
      "ap_score 0.9043542710506802\n",
      "km_score 1.0\n"
     ]
    },
    {
     "name": "stderr",
     "output_type": "stream",
     "text": [
      "\r",
      "Spectrum:  22%|███████████████▏                                                     | 22/100 [30:32<1:47:50, 82.95s/it]"
     ]
    },
    {
     "name": "stdout",
     "output_type": "stream",
     "text": [
      "acl_score 1.0\n",
      "len(set(ap_labels)) 2\n",
      "ap_score 0.724523936757741\n",
      "km_score 1.0\n"
     ]
    },
    {
     "name": "stderr",
     "output_type": "stream",
     "text": [
      "\r",
      "Spectrum:  23%|███████████████▊                                                     | 23/100 [31:54<1:46:16, 82.81s/it]"
     ]
    },
    {
     "name": "stdout",
     "output_type": "stream",
     "text": [
      "acl_score 1.0\n",
      "len(set(ap_labels)) 2\n",
      "ap_score 0.913398924074046\n",
      "km_score 1.0\n"
     ]
    },
    {
     "name": "stderr",
     "output_type": "stream",
     "text": [
      "\r",
      "Spectrum:  24%|████████████████▌                                                    | 24/100 [33:11<1:42:43, 81.09s/it]"
     ]
    },
    {
     "name": "stdout",
     "output_type": "stream",
     "text": [
      "acl_score 1.0\n",
      "len(set(ap_labels)) 2\n",
      "ap_score 0.8779841695474074\n",
      "km_score 1.0\n"
     ]
    },
    {
     "name": "stderr",
     "output_type": "stream",
     "text": [
      "\r",
      "Spectrum:  25%|█████████████████▎                                                   | 25/100 [34:34<1:41:51, 81.49s/it]"
     ]
    },
    {
     "name": "stdout",
     "output_type": "stream",
     "text": [
      "acl_score 1.0\n",
      "len(set(ap_labels)) 2\n",
      "ap_score 0.7919825418000119\n",
      "km_score 1.0\n"
     ]
    },
    {
     "name": "stderr",
     "output_type": "stream",
     "text": [
      "\r",
      "Spectrum:  26%|█████████████████▉                                                   | 26/100 [35:50<1:38:44, 80.06s/it]"
     ]
    },
    {
     "name": "stdout",
     "output_type": "stream",
     "text": [
      "acl_score 1.0\n",
      "len(set(ap_labels)) 2\n",
      "ap_score 0.9412598950343314\n",
      "km_score 1.0\n"
     ]
    },
    {
     "name": "stderr",
     "output_type": "stream",
     "text": [
      "\r",
      "Spectrum:  27%|██████████████████▋                                                  | 27/100 [37:13<1:38:23, 80.88s/it]"
     ]
    },
    {
     "name": "stdout",
     "output_type": "stream",
     "text": [
      "acl_score 1.0\n",
      "len(set(ap_labels)) 2\n",
      "ap_score 0.9412598950343314\n",
      "km_score 1.0\n"
     ]
    },
    {
     "name": "stderr",
     "output_type": "stream",
     "text": [
      "\r",
      "Spectrum:  28%|███████████████████▎                                                 | 28/100 [38:31<1:35:55, 79.94s/it]"
     ]
    },
    {
     "name": "stdout",
     "output_type": "stream",
     "text": [
      "acl_score 1.0\n",
      "len(set(ap_labels)) 2\n",
      "ap_score 0.9043542710506802\n",
      "km_score 1.0\n"
     ]
    },
    {
     "name": "stderr",
     "output_type": "stream",
     "text": [
      "\r",
      "Spectrum:  29%|████████████████████                                                 | 29/100 [39:47<1:33:26, 78.97s/it]"
     ]
    },
    {
     "name": "stdout",
     "output_type": "stream",
     "text": [
      "acl_score 1.0\n",
      "len(set(ap_labels)) 2\n",
      "ap_score 0.80629671125727\n",
      "km_score 1.0\n"
     ]
    },
    {
     "name": "stderr",
     "output_type": "stream",
     "text": [
      "\r",
      "Spectrum:  30%|████████████████████▋                                                | 30/100 [41:08<1:32:44, 79.50s/it]"
     ]
    },
    {
     "name": "stdout",
     "output_type": "stream",
     "text": [
      "acl_score 1.0\n",
      "len(set(ap_labels)) 2\n",
      "ap_score 0.7589179345460006\n",
      "km_score 1.0\n"
     ]
    },
    {
     "name": "stderr",
     "output_type": "stream",
     "text": [
      "\r",
      "Spectrum:  31%|█████████████████████▍                                               | 31/100 [42:36<1:34:07, 81.84s/it]"
     ]
    },
    {
     "name": "stdout",
     "output_type": "stream",
     "text": [
      "acl_score 1.0\n",
      "len(set(ap_labels)) 2\n",
      "ap_score 0.9507800466401071\n",
      "km_score 1.0\n"
     ]
    },
    {
     "name": "stderr",
     "output_type": "stream",
     "text": [
      "\r",
      "Spectrum:  32%|██████████████████████                                               | 32/100 [44:02<1:34:20, 83.24s/it]"
     ]
    },
    {
     "name": "stdout",
     "output_type": "stream",
     "text": [
      "acl_score 1.0\n",
      "len(set(ap_labels)) 2\n",
      "ap_score 0.9225665526474643\n",
      "km_score 1.0\n"
     ]
    },
    {
     "name": "stderr",
     "output_type": "stream",
     "text": [
      "\r",
      "Spectrum:  33%|██████████████████████▊                                              | 33/100 [45:25<1:32:51, 83.16s/it]"
     ]
    },
    {
     "name": "stdout",
     "output_type": "stream",
     "text": [
      "acl_score 1.0\n",
      "len(set(ap_labels)) 2\n",
      "ap_score 0.8610654408198618\n",
      "km_score 1.0\n"
     ]
    },
    {
     "name": "stderr",
     "output_type": "stream",
     "text": [
      "\r",
      "Spectrum:  34%|███████████████████████▍                                             | 34/100 [46:48<1:31:33, 83.24s/it]"
     ]
    },
    {
     "name": "stdout",
     "output_type": "stream",
     "text": [
      "acl_score 1.0\n",
      "len(set(ap_labels)) 2\n",
      "ap_score 0.7716710292938788\n",
      "km_score 1.0\n"
     ]
    },
    {
     "name": "stderr",
     "output_type": "stream",
     "text": [
      "\r",
      "Spectrum:  35%|████████████████████████▏                                            | 35/100 [48:11<1:29:58, 83.05s/it]"
     ]
    },
    {
     "name": "stdout",
     "output_type": "stream",
     "text": [
      "acl_score 1.0\n",
      "len(set(ap_labels)) 2\n",
      "ap_score 0.8779841695474074\n",
      "km_score 1.0\n"
     ]
    },
    {
     "name": "stderr",
     "output_type": "stream",
     "text": [
      "\r",
      "Spectrum:  36%|████████████████████████▊                                            | 36/100 [49:32<1:28:04, 82.56s/it]"
     ]
    },
    {
     "name": "stdout",
     "output_type": "stream",
     "text": [
      "acl_score 1.0\n",
      "len(set(ap_labels)) 2\n",
      "ap_score 0.9225665526474643\n",
      "km_score 1.0\n"
     ]
    },
    {
     "name": "stderr",
     "output_type": "stream",
     "text": [
      "\r",
      "Spectrum:  37%|█████████████████████████▌                                           | 37/100 [50:55<1:26:38, 82.52s/it]"
     ]
    },
    {
     "name": "stdout",
     "output_type": "stream",
     "text": [
      "acl_score 1.0\n",
      "len(set(ap_labels)) 2\n",
      "ap_score 0.8528115234899913\n",
      "km_score 1.0\n"
     ]
    },
    {
     "name": "stderr",
     "output_type": "stream",
     "text": [
      "\r",
      "Spectrum:  38%|██████████████████████████▏                                          | 38/100 [52:08<1:22:23, 79.74s/it]"
     ]
    },
    {
     "name": "stdout",
     "output_type": "stream",
     "text": [
      "acl_score 1.0\n",
      "len(set(ap_labels)) 2\n",
      "ap_score 0.8954352272776029\n",
      "km_score 1.0\n"
     ]
    },
    {
     "name": "stderr",
     "output_type": "stream",
     "text": [
      "\r",
      "Spectrum:  39%|██████████████████████████▉                                          | 39/100 [53:27<1:20:42, 79.38s/it]"
     ]
    },
    {
     "name": "stdout",
     "output_type": "stream",
     "text": [
      "acl_score 1.0\n",
      "len(set(ap_labels)) 2\n",
      "ap_score 0.8779841695474074\n",
      "km_score 1.0\n"
     ]
    },
    {
     "name": "stderr",
     "output_type": "stream",
     "text": [
      "\r",
      "Spectrum:  40%|███████████████████████████▌                                         | 40/100 [54:53<1:21:22, 81.38s/it]"
     ]
    },
    {
     "name": "stdout",
     "output_type": "stream",
     "text": [
      "acl_score 1.0\n",
      "len(set(ap_labels)) 2\n",
      "ap_score 0.9412598950343314\n",
      "km_score 1.0\n"
     ]
    },
    {
     "name": "stderr",
     "output_type": "stream",
     "text": [
      "\r",
      "Spectrum:  41%|████████████████████████████▎                                        | 41/100 [56:10<1:18:41, 80.02s/it]"
     ]
    },
    {
     "name": "stdout",
     "output_type": "stream",
     "text": [
      "acl_score 1.0\n",
      "len(set(ap_labels)) 2\n",
      "ap_score 0.8610654408198618\n",
      "km_score 1.0\n"
     ]
    },
    {
     "name": "stderr",
     "output_type": "stream",
     "text": [
      "\r",
      "Spectrum:  42%|████████████████████████████▉                                        | 42/100 [57:29<1:17:07, 79.79s/it]"
     ]
    },
    {
     "name": "stdout",
     "output_type": "stream",
     "text": [
      "acl_score 1.0\n",
      "len(set(ap_labels)) 2\n",
      "ap_score 0.8610654408198618\n",
      "km_score 1.0\n"
     ]
    },
    {
     "name": "stderr",
     "output_type": "stream",
     "text": [
      "\r",
      "Spectrum:  43%|█████████████████████████████▋                                       | 43/100 [58:47<1:15:21, 79.33s/it]"
     ]
    },
    {
     "name": "stdout",
     "output_type": "stream",
     "text": [
      "acl_score 1.0\n",
      "len(set(ap_labels)) 2\n",
      "ap_score 0.9043542710506802\n",
      "km_score 1.0\n"
     ]
    },
    {
     "name": "stderr",
     "output_type": "stream",
     "text": [
      "\r",
      "Spectrum:  44%|█████████████████████████████▍                                     | 44/100 [1:00:04<1:13:26, 78.69s/it]"
     ]
    },
    {
     "name": "stdout",
     "output_type": "stream",
     "text": [
      "acl_score 1.0\n",
      "len(set(ap_labels)) 2\n",
      "ap_score 0.9043542710506802\n",
      "km_score 1.0\n"
     ]
    },
    {
     "name": "stderr",
     "output_type": "stream",
     "text": [
      "\r",
      "Spectrum:  45%|██████████████████████████████▏                                    | 45/100 [1:01:26<1:13:03, 79.70s/it]"
     ]
    },
    {
     "name": "stdout",
     "output_type": "stream",
     "text": [
      "acl_score 1.0\n",
      "len(set(ap_labels)) 2\n",
      "ap_score 0.8866443606216768\n",
      "km_score 1.0\n"
     ]
    },
    {
     "name": "stderr",
     "output_type": "stream",
     "text": [
      "\r",
      "Spectrum:  46%|██████████████████████████████▊                                    | 46/100 [1:02:47<1:12:06, 80.12s/it]"
     ]
    },
    {
     "name": "stdout",
     "output_type": "stream",
     "text": [
      "acl_score 1.0\n",
      "len(set(ap_labels)) 2\n",
      "ap_score 0.9318544609714189\n",
      "km_score 1.0\n"
     ]
    },
    {
     "name": "stderr",
     "output_type": "stream",
     "text": [
      "\r",
      "Spectrum:  47%|███████████████████████████████▍                                   | 47/100 [1:04:06<1:10:22, 79.66s/it]"
     ]
    },
    {
     "name": "stdout",
     "output_type": "stream",
     "text": [
      "acl_score 1.0\n",
      "len(set(ap_labels)) 2\n",
      "ap_score 0.8779841695474074\n",
      "km_score 1.0\n"
     ]
    },
    {
     "name": "stderr",
     "output_type": "stream",
     "text": [
      "\r",
      "Spectrum:  48%|████████████████████████████████▏                                  | 48/100 [1:05:26<1:09:01, 79.64s/it]"
     ]
    },
    {
     "name": "stdout",
     "output_type": "stream",
     "text": [
      "acl_score 1.0\n",
      "len(set(ap_labels)) 2\n",
      "ap_score 0.9412598950343314\n",
      "km_score 1.0\n"
     ]
    },
    {
     "name": "stderr",
     "output_type": "stream",
     "text": [
      "\r",
      "Spectrum:  49%|████████████████████████████████▊                                  | 49/100 [1:06:48<1:08:29, 80.59s/it]"
     ]
    },
    {
     "name": "stdout",
     "output_type": "stream",
     "text": [
      "acl_score 1.0\n",
      "len(set(ap_labels)) 2\n",
      "ap_score 0.7919825418000119\n",
      "km_score 1.0\n"
     ]
    },
    {
     "name": "stderr",
     "output_type": "stream",
     "text": [
      "\r",
      "Spectrum:  50%|█████████████████████████████████▌                                 | 50/100 [1:08:12<1:07:56, 81.53s/it]"
     ]
    },
    {
     "name": "stdout",
     "output_type": "stream",
     "text": [
      "acl_score 1.0\n",
      "len(set(ap_labels)) 2\n",
      "ap_score 0.9318544609714189\n",
      "km_score 1.0\n"
     ]
    },
    {
     "name": "stderr",
     "output_type": "stream",
     "text": [
      "\r",
      "Spectrum:  51%|██████████████████████████████████▏                                | 51/100 [1:09:38<1:07:33, 82.73s/it]"
     ]
    },
    {
     "name": "stdout",
     "output_type": "stream",
     "text": [
      "acl_score 1.0\n",
      "len(set(ap_labels)) 2\n",
      "ap_score 0.8866443606216768\n",
      "km_score 1.0\n"
     ]
    },
    {
     "name": "stderr",
     "output_type": "stream",
     "text": [
      "\r",
      "Spectrum:  52%|██████████████████████████████████▊                                | 52/100 [1:10:51<1:04:02, 80.05s/it]"
     ]
    },
    {
     "name": "stdout",
     "output_type": "stream",
     "text": [
      "acl_score 1.0\n",
      "len(set(ap_labels)) 2\n",
      "ap_score 0.9225665526474643\n",
      "km_score 1.0\n"
     ]
    },
    {
     "name": "stderr",
     "output_type": "stream",
     "text": [
      "\r",
      "Spectrum:  53%|███████████████████████████████████▌                               | 53/100 [1:12:14<1:03:22, 80.90s/it]"
     ]
    },
    {
     "name": "stdout",
     "output_type": "stream",
     "text": [
      "acl_score 1.0\n",
      "len(set(ap_labels)) 2\n",
      "ap_score 0.8610654408198618\n",
      "km_score 1.0\n"
     ]
    },
    {
     "name": "stderr",
     "output_type": "stream",
     "text": [
      "\r",
      "Spectrum:  54%|████████████████████████████████████▏                              | 54/100 [1:13:34<1:01:40, 80.45s/it]"
     ]
    },
    {
     "name": "stdout",
     "output_type": "stream",
     "text": [
      "acl_score 1.0\n",
      "len(set(ap_labels)) 2\n",
      "ap_score 0.8446975165706131\n",
      "km_score 1.0\n"
     ]
    },
    {
     "name": "stderr",
     "output_type": "stream",
     "text": [
      "\r",
      "Spectrum:  55%|█████████████████████████████████████▉                               | 55/100 [1:14:52<59:54, 79.88s/it]"
     ]
    },
    {
     "name": "stdout",
     "output_type": "stream",
     "text": [
      "acl_score 1.0\n",
      "len(set(ap_labels)) 2\n",
      "ap_score 0.8694570797241777\n",
      "km_score 1.0\n"
     ]
    },
    {
     "name": "stderr",
     "output_type": "stream",
     "text": [
      "\r",
      "Spectrum:  56%|██████████████████████████████████████▋                              | 56/100 [1:16:19<59:59, 81.81s/it]"
     ]
    },
    {
     "name": "stdout",
     "output_type": "stream",
     "text": [
      "acl_score 1.0\n",
      "len(set(ap_labels)) 2\n",
      "ap_score 0.913398924074046\n",
      "km_score 1.0\n"
     ]
    },
    {
     "name": "stderr",
     "output_type": "stream",
     "text": [
      "\r",
      "Spectrum:  57%|███████████████████████████████████████▎                             | 57/100 [1:17:33<56:58, 79.50s/it]"
     ]
    },
    {
     "name": "stdout",
     "output_type": "stream",
     "text": [
      "acl_score 1.0\n",
      "len(set(ap_labels)) 2\n",
      "ap_score 0.9043542710506802\n",
      "km_score 1.0\n"
     ]
    },
    {
     "name": "stderr",
     "output_type": "stream",
     "text": [
      "\r",
      "Spectrum:  58%|████████████████████████████████████████                             | 58/100 [1:18:54<56:00, 80.02s/it]"
     ]
    },
    {
     "name": "stdout",
     "output_type": "stream",
     "text": [
      "acl_score 1.0\n",
      "len(set(ap_labels)) 2\n",
      "ap_score 0.8446975165706131\n",
      "km_score 1.0\n"
     ]
    },
    {
     "name": "stderr",
     "output_type": "stream",
     "text": [
      "\r",
      "Spectrum:  59%|████████████████████████████████████████▋                            | 59/100 [1:20:11<54:00, 79.04s/it]"
     ]
    },
    {
     "name": "stdout",
     "output_type": "stream",
     "text": [
      "acl_score 1.0\n",
      "len(set(ap_labels)) 2\n",
      "ap_score 0.9318544609714189\n",
      "km_score 1.0\n"
     ]
    },
    {
     "name": "stderr",
     "output_type": "stream",
     "text": [
      "\r",
      "Spectrum:  60%|█████████████████████████████████████████▍                           | 60/100 [1:21:32<53:06, 79.66s/it]"
     ]
    },
    {
     "name": "stdout",
     "output_type": "stream",
     "text": [
      "acl_score 1.0\n",
      "len(set(ap_labels)) 2\n",
      "ap_score 0.9507800466401071\n",
      "km_score 1.0\n"
     ]
    },
    {
     "name": "stderr",
     "output_type": "stream",
     "text": [
      "\r",
      "Spectrum:  61%|██████████████████████████████████████████                           | 61/100 [1:22:52<51:53, 79.84s/it]"
     ]
    },
    {
     "name": "stdout",
     "output_type": "stream",
     "text": [
      "acl_score 1.0\n",
      "len(set(ap_labels)) 2\n",
      "ap_score 0.9043542710506802\n",
      "km_score 1.0\n"
     ]
    },
    {
     "name": "stderr",
     "output_type": "stream",
     "text": [
      "\r",
      "Spectrum:  62%|██████████████████████████████████████████▊                          | 62/100 [1:24:15<51:04, 80.63s/it]"
     ]
    },
    {
     "name": "stdout",
     "output_type": "stream",
     "text": [
      "acl_score 1.0\n",
      "len(set(ap_labels)) 2\n",
      "ap_score 0.9225665526474643\n",
      "km_score 1.0\n"
     ]
    },
    {
     "name": "stderr",
     "output_type": "stream",
     "text": [
      "\r",
      "Spectrum:  63%|███████████████████████████████████████████▍                         | 63/100 [1:25:31<48:58, 79.43s/it]"
     ]
    },
    {
     "name": "stdout",
     "output_type": "stream",
     "text": [
      "acl_score 1.0\n",
      "len(set(ap_labels)) 2\n",
      "ap_score 0.8610654408198618\n",
      "km_score 1.0\n"
     ]
    },
    {
     "name": "stderr",
     "output_type": "stream",
     "text": [
      "\r",
      "Spectrum:  64%|████████████████████████████████████████████▏                        | 64/100 [1:27:01<49:30, 82.52s/it]"
     ]
    },
    {
     "name": "stdout",
     "output_type": "stream",
     "text": [
      "acl_score 1.0\n",
      "len(set(ap_labels)) 2\n",
      "ap_score 0.69601843259202\n",
      "km_score 1.0\n"
     ]
    },
    {
     "name": "stderr",
     "output_type": "stream",
     "text": [
      "\r",
      "Spectrum:  65%|████████████████████████████████████████████▊                        | 65/100 [1:28:23<48:05, 82.43s/it]"
     ]
    },
    {
     "name": "stdout",
     "output_type": "stream",
     "text": [
      "acl_score 1.0\n",
      "len(set(ap_labels)) 2\n",
      "ap_score 0.8610654408198618\n",
      "km_score 1.0\n"
     ]
    },
    {
     "name": "stderr",
     "output_type": "stream",
     "text": [
      "\r",
      "Spectrum:  66%|█████████████████████████████████████████████▌                       | 66/100 [1:29:40<45:48, 80.85s/it]"
     ]
    },
    {
     "name": "stdout",
     "output_type": "stream",
     "text": [
      "acl_score 1.0\n",
      "len(set(ap_labels)) 2\n",
      "ap_score 0.821215566341779\n",
      "km_score 1.0\n"
     ]
    },
    {
     "name": "stderr",
     "output_type": "stream",
     "text": [
      "\r",
      "Spectrum:  67%|██████████████████████████████████████████████▏                      | 67/100 [1:31:04<44:59, 81.79s/it]"
     ]
    },
    {
     "name": "stdout",
     "output_type": "stream",
     "text": [
      "acl_score 1.0\n",
      "len(set(ap_labels)) 2\n",
      "ap_score 0.821215566341779\n",
      "km_score 1.0\n"
     ]
    },
    {
     "name": "stderr",
     "output_type": "stream",
     "text": [
      "\r",
      "Spectrum:  68%|██████████████████████████████████████████████▉                      | 68/100 [1:32:27<43:49, 82.16s/it]"
     ]
    },
    {
     "name": "stdout",
     "output_type": "stream",
     "text": [
      "acl_score 1.0\n",
      "len(set(ap_labels)) 2\n",
      "ap_score 0.785056043141731\n",
      "km_score 1.0\n"
     ]
    },
    {
     "name": "stderr",
     "output_type": "stream",
     "text": [
      "\r",
      "Spectrum:  69%|███████████████████████████████████████████████▌                     | 69/100 [1:33:45<41:48, 80.91s/it]"
     ]
    },
    {
     "name": "stdout",
     "output_type": "stream",
     "text": [
      "acl_score 1.0\n",
      "len(set(ap_labels)) 2\n",
      "ap_score 0.9043542710506802\n",
      "km_score 1.0\n"
     ]
    },
    {
     "name": "stderr",
     "output_type": "stream",
     "text": [
      "\r",
      "Spectrum:  70%|████████████████████████████████████████████████▎                    | 70/100 [1:35:08<40:39, 81.31s/it]"
     ]
    },
    {
     "name": "stdout",
     "output_type": "stream",
     "text": [
      "acl_score 1.0\n",
      "len(set(ap_labels)) 2\n",
      "ap_score 0.9043542710506802\n",
      "km_score 1.0\n"
     ]
    },
    {
     "name": "stderr",
     "output_type": "stream",
     "text": [
      "\r",
      "Spectrum:  71%|████████████████████████████████████████████████▉                    | 71/100 [1:36:34<40:01, 82.80s/it]"
     ]
    },
    {
     "name": "stdout",
     "output_type": "stream",
     "text": [
      "acl_score 1.0\n",
      "len(set(ap_labels)) 2\n",
      "ap_score 0.8367255244819107\n",
      "km_score 1.0\n"
     ]
    },
    {
     "name": "stderr",
     "output_type": "stream",
     "text": [
      "\r",
      "Spectrum:  72%|█████████████████████████████████████████████████▋                   | 72/100 [1:37:53<38:05, 81.64s/it]"
     ]
    },
    {
     "name": "stdout",
     "output_type": "stream",
     "text": [
      "acl_score 1.0\n",
      "len(set(ap_labels)) 2\n",
      "ap_score 0.9507800466401071\n",
      "km_score 1.0\n"
     ]
    },
    {
     "name": "stderr",
     "output_type": "stream",
     "text": [
      "\r",
      "Spectrum:  73%|██████████████████████████████████████████████████▎                  | 73/100 [1:39:12<36:26, 81.00s/it]"
     ]
    },
    {
     "name": "stdout",
     "output_type": "stream",
     "text": [
      "acl_score 1.0\n",
      "len(set(ap_labels)) 2\n",
      "ap_score 0.9507800466401071\n",
      "km_score 1.0\n"
     ]
    },
    {
     "name": "stderr",
     "output_type": "stream",
     "text": [
      "\r",
      "Spectrum:  74%|███████████████████████████████████████████████████                  | 74/100 [1:40:38<35:41, 82.38s/it]"
     ]
    },
    {
     "name": "stdout",
     "output_type": "stream",
     "text": [
      "acl_score 1.0\n",
      "len(set(ap_labels)) 2\n",
      "ap_score 0.7782851174056631\n",
      "km_score 1.0\n"
     ]
    },
    {
     "name": "stderr",
     "output_type": "stream",
     "text": [
      "\r",
      "Spectrum:  75%|███████████████████████████████████████████████████▊                 | 75/100 [1:41:57<33:54, 81.39s/it]"
     ]
    },
    {
     "name": "stdout",
     "output_type": "stream",
     "text": [
      "acl_score 1.0\n",
      "len(set(ap_labels)) 2\n",
      "ap_score 0.8954352272776029\n",
      "km_score 1.0\n"
     ]
    },
    {
     "name": "stderr",
     "output_type": "stream",
     "text": [
      "\r",
      "Spectrum:  76%|████████████████████████████████████████████████████▍                | 76/100 [1:43:20<32:46, 81.95s/it]"
     ]
    },
    {
     "name": "stdout",
     "output_type": "stream",
     "text": [
      "acl_score 1.0\n",
      "len(set(ap_labels)) 2\n",
      "ap_score 0.9412598950343314\n",
      "km_score 1.0\n"
     ]
    },
    {
     "name": "stderr",
     "output_type": "stream",
     "text": [
      "\r",
      "Spectrum:  77%|█████████████████████████████████████████████████████▏               | 77/100 [1:44:39<31:05, 81.10s/it]"
     ]
    },
    {
     "name": "stdout",
     "output_type": "stream",
     "text": [
      "acl_score 1.0\n",
      "len(set(ap_labels)) 2\n",
      "ap_score 0.8610654408198618\n",
      "km_score 1.0\n"
     ]
    },
    {
     "name": "stderr",
     "output_type": "stream",
     "text": [
      "\r",
      "Spectrum:  78%|█████████████████████████████████████████████████████▊               | 78/100 [1:46:10<30:45, 83.87s/it]"
     ]
    },
    {
     "name": "stdout",
     "output_type": "stream",
     "text": [
      "acl_score 1.0\n",
      "len(set(ap_labels)) 2\n",
      "ap_score 0.7919825418000119\n",
      "km_score 1.0\n"
     ]
    },
    {
     "name": "stderr",
     "output_type": "stream",
     "text": [
      "\r",
      "Spectrum:  79%|██████████████████████████████████████████████████████▌              | 79/100 [1:47:37<29:41, 84.85s/it]"
     ]
    },
    {
     "name": "stdout",
     "output_type": "stream",
     "text": [
      "acl_score 1.0\n",
      "len(set(ap_labels)) 2\n",
      "ap_score 0.9318544609714189\n",
      "km_score 1.0\n"
     ]
    },
    {
     "name": "stderr",
     "output_type": "stream",
     "text": [
      "\r",
      "Spectrum:  80%|███████████████████████████████████████████████████████▏             | 80/100 [1:49:03<28:27, 85.35s/it]"
     ]
    },
    {
     "name": "stdout",
     "output_type": "stream",
     "text": [
      "acl_score 1.0\n",
      "len(set(ap_labels)) 2\n",
      "ap_score 0.8288975648485725\n",
      "km_score 1.0\n"
     ]
    },
    {
     "name": "stderr",
     "output_type": "stream",
     "text": [
      "\r",
      "Spectrum:  81%|███████████████████████████████████████████████████████▉             | 81/100 [1:50:32<27:18, 86.25s/it]"
     ]
    },
    {
     "name": "stdout",
     "output_type": "stream",
     "text": [
      "acl_score 1.0\n",
      "len(set(ap_labels)) 2\n",
      "ap_score 0.913398924074046\n",
      "km_score 1.0\n"
     ]
    },
    {
     "name": "stderr",
     "output_type": "stream",
     "text": [
      "\r",
      "Spectrum:  82%|████████████████████████████████████████████████████████▌            | 82/100 [1:51:54<25:34, 85.22s/it]"
     ]
    },
    {
     "name": "stdout",
     "output_type": "stream",
     "text": [
      "acl_score 1.0\n",
      "len(set(ap_labels)) 2\n",
      "ap_score 0.9412598950343314\n",
      "km_score 1.0\n"
     ]
    },
    {
     "name": "stderr",
     "output_type": "stream",
     "text": [
      "\r",
      "Spectrum:  83%|█████████████████████████████████████████████████████████▎           | 83/100 [1:53:09<23:13, 81.96s/it]"
     ]
    },
    {
     "name": "stdout",
     "output_type": "stream",
     "text": [
      "acl_score 1.0\n",
      "len(set(ap_labels)) 2\n",
      "ap_score 0.913398924074046\n",
      "km_score 1.0\n"
     ]
    },
    {
     "name": "stderr",
     "output_type": "stream",
     "text": [
      "\r",
      "Spectrum:  84%|█████████████████████████████████████████████████████████▉           | 84/100 [1:54:38<22:27, 84.24s/it]"
     ]
    },
    {
     "name": "stdout",
     "output_type": "stream",
     "text": [
      "acl_score 1.0\n",
      "len(set(ap_labels)) 2\n",
      "ap_score 0.9507800466401071\n",
      "km_score 1.0\n"
     ]
    },
    {
     "name": "stderr",
     "output_type": "stream",
     "text": [
      "\r",
      "Spectrum:  85%|██████████████████████████████████████████████████████████▋          | 85/100 [1:56:08<21:28, 85.88s/it]"
     ]
    },
    {
     "name": "stdout",
     "output_type": "stream",
     "text": [
      "acl_score 1.0\n",
      "len(set(ap_labels)) 2\n",
      "ap_score 0.80629671125727\n",
      "km_score 1.0\n"
     ]
    },
    {
     "name": "stderr",
     "output_type": "stream",
     "text": [
      "\r",
      "Spectrum:  86%|███████████████████████████████████████████████████████████▎         | 86/100 [1:57:29<19:41, 84.40s/it]"
     ]
    },
    {
     "name": "stdout",
     "output_type": "stream",
     "text": [
      "acl_score 1.0\n",
      "len(set(ap_labels)) 2\n",
      "ap_score 0.8866443606216768\n",
      "km_score 1.0\n"
     ]
    },
    {
     "name": "stderr",
     "output_type": "stream",
     "text": [
      "\r",
      "Spectrum:  87%|████████████████████████████████████████████████████████████         | 87/100 [1:58:53<18:14, 84.21s/it]"
     ]
    },
    {
     "name": "stdout",
     "output_type": "stream",
     "text": [
      "acl_score 1.0\n",
      "len(set(ap_labels)) 2\n",
      "ap_score 0.8610654408198618\n",
      "km_score 1.0\n"
     ]
    },
    {
     "name": "stderr",
     "output_type": "stream",
     "text": [
      "\r",
      "Spectrum:  88%|████████████████████████████████████████████████████████████▋        | 88/100 [2:00:23<17:13, 86.14s/it]"
     ]
    },
    {
     "name": "stdout",
     "output_type": "stream",
     "text": [
      "acl_score 1.0\n",
      "len(set(ap_labels)) 2\n",
      "ap_score 0.7409905555180871\n",
      "km_score 1.0\n"
     ]
    },
    {
     "name": "stderr",
     "output_type": "stream",
     "text": [
      "\r",
      "Spectrum:  89%|█████████████████████████████████████████████████████████████▍       | 89/100 [2:01:47<15:40, 85.49s/it]"
     ]
    },
    {
     "name": "stdout",
     "output_type": "stream",
     "text": [
      "acl_score 1.0\n",
      "len(set(ap_labels)) 2\n",
      "ap_score 0.8866443606216768\n",
      "km_score 1.0\n"
     ]
    },
    {
     "name": "stderr",
     "output_type": "stream",
     "text": [
      "\r",
      "Spectrum:  90%|██████████████████████████████████████████████████████████████       | 90/100 [2:03:18<14:29, 86.92s/it]"
     ]
    },
    {
     "name": "stdout",
     "output_type": "stream",
     "text": [
      "acl_score 1.0\n",
      "len(set(ap_labels)) 2\n",
      "ap_score 0.7527809669515134\n",
      "km_score 1.0\n"
     ]
    },
    {
     "name": "stderr",
     "output_type": "stream",
     "text": [
      "\r",
      "Spectrum:  91%|██████████████████████████████████████████████████████████████▊      | 91/100 [2:04:41<12:51, 85.74s/it]"
     ]
    },
    {
     "name": "stdout",
     "output_type": "stream",
     "text": [
      "acl_score 1.0\n",
      "len(set(ap_labels)) 2\n",
      "ap_score 0.913398924074046\n",
      "km_score 1.0\n"
     ]
    },
    {
     "name": "stderr",
     "output_type": "stream",
     "text": [
      "\r",
      "Spectrum:  92%|███████████████████████████████████████████████████████████████▍     | 92/100 [2:06:08<11:30, 86.29s/it]"
     ]
    },
    {
     "name": "stdout",
     "output_type": "stream",
     "text": [
      "acl_score 1.0\n",
      "len(set(ap_labels)) 2\n",
      "ap_score 0.9412598950343314\n",
      "km_score 1.0\n"
     ]
    },
    {
     "name": "stderr",
     "output_type": "stream",
     "text": [
      "\r",
      "Spectrum:  93%|████████████████████████████████████████████████████████████████▏    | 93/100 [2:07:29<09:51, 84.50s/it]"
     ]
    },
    {
     "name": "stdout",
     "output_type": "stream",
     "text": [
      "acl_score 1.0\n",
      "len(set(ap_labels)) 2\n",
      "ap_score 0.9225665526474643\n",
      "km_score 1.0\n"
     ]
    },
    {
     "name": "stderr",
     "output_type": "stream",
     "text": [
      "\r",
      "Spectrum:  94%|████████████████████████████████████████████████████████████████▊    | 94/100 [2:08:50<08:20, 83.50s/it]"
     ]
    },
    {
     "name": "stdout",
     "output_type": "stream",
     "text": [
      "acl_score 1.0\n",
      "len(set(ap_labels)) 2\n",
      "ap_score 0.8954352272776029\n",
      "km_score 1.0\n"
     ]
    },
    {
     "name": "stderr",
     "output_type": "stream",
     "text": [
      "\r",
      "Spectrum:  95%|█████████████████████████████████████████████████████████████████▌   | 95/100 [2:10:11<06:54, 82.91s/it]"
     ]
    },
    {
     "name": "stdout",
     "output_type": "stream",
     "text": [
      "acl_score 1.0\n",
      "len(set(ap_labels)) 2\n",
      "ap_score 0.7193621805598783\n",
      "km_score 1.0\n"
     ]
    },
    {
     "name": "stderr",
     "output_type": "stream",
     "text": [
      "\r",
      "Spectrum:  96%|██████████████████████████████████████████████████████████████████▏  | 96/100 [2:11:31<05:28, 82.10s/it]"
     ]
    },
    {
     "name": "stdout",
     "output_type": "stream",
     "text": [
      "acl_score 1.0\n",
      "len(set(ap_labels)) 2\n",
      "ap_score 0.8779841695474074\n",
      "km_score 1.0\n"
     ]
    },
    {
     "name": "stderr",
     "output_type": "stream",
     "text": [
      "\r",
      "Spectrum:  97%|██████████████████████████████████████████████████████████████████▉  | 97/100 [2:12:56<04:08, 82.87s/it]"
     ]
    },
    {
     "name": "stdout",
     "output_type": "stream",
     "text": [
      "acl_score 1.0\n",
      "len(set(ap_labels)) 2\n",
      "ap_score 0.9412598950343314\n",
      "km_score 1.0\n"
     ]
    },
    {
     "name": "stderr",
     "output_type": "stream",
     "text": [
      "\r",
      "Spectrum:  98%|███████████████████████████████████████████████████████████████████▌ | 98/100 [2:14:20<02:46, 83.17s/it]"
     ]
    },
    {
     "name": "stdout",
     "output_type": "stream",
     "text": [
      "acl_score 1.0\n",
      "len(set(ap_labels)) 2\n",
      "ap_score 0.821215566341779\n",
      "km_score 1.0\n"
     ]
    },
    {
     "name": "stderr",
     "output_type": "stream",
     "text": [
      "\r",
      "Spectrum:  99%|████████████████████████████████████████████████████████████████████▎| 99/100 [2:15:43<01:23, 83.01s/it]"
     ]
    },
    {
     "name": "stdout",
     "output_type": "stream",
     "text": [
      "acl_score 1.0\n",
      "len(set(ap_labels)) 2\n",
      "ap_score 0.9412598950343314\n",
      "km_score 1.0\n"
     ]
    },
    {
     "name": "stderr",
     "output_type": "stream",
     "text": [
      "Spectrum: 100%|████████████████████████████████████████████████████████████████████| 100/100 [2:17:02<00:00, 82.22s/it]"
     ]
    },
    {
     "name": "stdout",
     "output_type": "stream",
     "text": [
      "acl_score 1.0\n",
      "len(set(ap_labels)) 2\n",
      "ap_score 0.8610654408198618\n",
      "km_score 1.0\n",
      "average Agglomerative cluster 2.0\n",
      "FMI_Agglomerative= 1.000\n",
      "average Affinity Propagation cluster 2.0\n",
      "FMI_Affinity_Propagation = 0.874\n",
      "FMI_k_medoids = 1.000\n"
     ]
    },
    {
     "name": "stderr",
     "output_type": "stream",
     "text": [
      "\n"
     ]
    }
   ],
   "source": [
    "\n",
    "sample_rate_1, data_1 = wavfile.read('wav//220747__jmuehlhans__tuning-fork-440-hz-resonance-box.wav')\n",
    "sample_rate_2, data_2 = wavfile.read('wav//334536__teddy_frost__piano-normal-d4.wav')\n",
    "if data_1.ndim > 1:\n",
    "    data_1 = data_1[:, 0]\n",
    "if data_2.ndim > 1:\n",
    "    data_2 = data_2[:, 0]\n",
    "#print(data_1)\n",
    "#print(data_2)\n",
    "#piece_1_start = np.random.uniform(3,20)\n",
    "#piece_2_start = np.random.uniform(0.1,1.3)\n",
    "\n",
    "\n",
    "from tqdm import tqdm\n",
    "mean_acl_num_cluster = 0\n",
    "mean_ap_num_cluster = 0\n",
    "mean_acl_score = 0\n",
    "mean_ap_score = 0\n",
    "mean_km_score = 0\n",
    "for i in tqdm(range(100), desc='Spectrum'):\n",
    "    tuning_class = []\n",
    "    for i in range(100):\n",
    "        #piece_1_start = np.random.uniform(4,10)\n",
    "        piece_1_start = np.random.uniform(3,15)\n",
    "        piece_1_length = np.random.uniform(0.02,0.05)\n",
    "        x_1 = data_1[int(piece_1_start* sample_rate_1):int((piece_1_start+piece_1_length)* sample_rate_1)]\n",
    "        get_dgm1_delete_inf = get_diagram_delete_inf(x_1)\n",
    "        tuning_class.append(get_dgm1_delete_inf)\n",
    "    #print(len(tuning_class))\n",
    "    #print(tuning_class)\n",
    "    piano_class = []\n",
    "    for j in range(100):\n",
    "        piece_2_start = np.random.uniform(0.2,1.0)\n",
    "        #piece_2_start = np.random.uniform(0.1,1.3)\n",
    "        piece_2_length = np.random.uniform(0.02,0.05)\n",
    "        #print(piece_2_start)\n",
    "        #print(int(piece_2_start* sample_rate_2))\n",
    "        x_2 = data_2[int(piece_2_start* sample_rate_2):int((piece_2_start+piece_2_length) * sample_rate_2)]\n",
    "        #print(x_2)\n",
    "        get_dgm2_delete_inf = get_diagram_delete_inf(x_2)\n",
    "        piano_class.append(get_dgm2_delete_inf)\n",
    "\n",
    "    datas = []\n",
    "    datas.extend(tuning_class)\n",
    "    datas.extend(piano_class)\n",
    "    labels = np.zeros(200)\n",
    "    labels[100:] = 1\n",
    "\n",
    "    \"\"\"\n",
    "    generate distance matrix\n",
    "    \"\"\"\n",
    "\n",
    "    def get_sc_dismatrix(datas):\n",
    "        distance_matrix = np.zeros((len(datas), len(datas)))\n",
    "        #print(\"distance_matrix.shape\", distance_matrix.shape)\n",
    "        for i in range(len(datas)):\n",
    "            for j in range(len(datas)):\n",
    "                distance_matrix[i, j] = sd.compute_distance(datas[i], datas[j])\n",
    "        return distance_matrix\n",
    "\n",
    "    A = get_sc_dismatrix(datas)\n",
    "\n",
    "    \"\"\"\n",
    "    Agglomerative Clustering\n",
    "    \"\"\"\n",
    "\n",
    "\n",
    "    acl = AgglomerativeClustering(n_clusters=2, metric='precomputed', linkage='average')\n",
    "\n",
    "    acl_labels = acl.fit_predict(A)\n",
    "    mean_acl_num_cluster += len(set(acl_labels))\n",
    "\n",
    "\n",
    "\n",
    "    acl_score = fowlkes_mallows_score(labels, acl_labels)\n",
    "    print(\"acl_score\",acl_score)\n",
    "    mean_acl_score += acl_score\n",
    "\n",
    "    \"\"\"\n",
    "    Affinity Propagation\n",
    "    \"\"\"\n",
    "\n",
    "\n",
    "    ap = AffinityPropagation(affinity='precomputed')\n",
    "    ap_clustering = ap.fit(A)\n",
    "    ap_labels = ap_clustering.labels_\n",
    "\n",
    "    mean_ap_num_cluster+=len(set(ap_labels))\n",
    "    print(\"len(set(ap_labels))\",len(set(ap_labels)))\n",
    "   \n",
    "\n",
    "    ap_score = fowlkes_mallows_score(labels, ap_labels)\n",
    "    print(\"ap_score\",ap_score)\n",
    "    mean_ap_score += ap_score\n",
    "\n",
    "    \"\"\"\n",
    "    k-med\n",
    "    \"\"\"\n",
    "    kmedoids = KMedoids(n_clusters=2, random_state=0).fit(A)\n",
    "    #print(kmedoids.labels_)\n",
    "    km_score = fowlkes_mallows_score(labels, kmedoids.labels_)\n",
    "    print(\"km_score\",km_score)\n",
    "    mean_km_score+=km_score\n",
    "average_acl_cluster = mean_acl_num_cluster/100\n",
    "average_acl_score = mean_acl_score/100\n",
    "average_ap_cluster = mean_ap_num_cluster/100\n",
    "average_ap_score = mean_ap_score/100\n",
    "average_km_score = mean_km_score/100\n",
    "print(\"average Agglomerative cluster\",average_acl_cluster)\n",
    "print(f'FMI_Agglomerative= {average_acl_score:.3f}')\n",
    "print(\"average Affinity Propagation cluster\",average_ap_cluster)\n",
    "print(f'FMI_Affinity_Propagation = {average_ap_score:.3f}')\n",
    "print(f'FMI_k_medoids = {average_km_score:.3f}')"
   ]
  },
  {
   "cell_type": "code",
   "execution_count": null,
   "id": "a74cc88e",
   "metadata": {},
   "outputs": [],
   "source": []
  }
 ],
 "metadata": {
  "kernelspec": {
   "display_name": "hejx_env",
   "language": "python",
   "name": "hejx_env"
  },
  "language_info": {
   "codemirror_mode": {
    "name": "ipython",
    "version": 3
   },
   "file_extension": ".py",
   "mimetype": "text/x-python",
   "name": "python",
   "nbconvert_exporter": "python",
   "pygments_lexer": "ipython3",
   "version": "3.8.15"
  }
 },
 "nbformat": 4,
 "nbformat_minor": 5
}
